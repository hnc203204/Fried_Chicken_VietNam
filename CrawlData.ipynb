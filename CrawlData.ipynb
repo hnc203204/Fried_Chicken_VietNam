{
 "cells": [
  {
   "cell_type": "markdown",
   "id": "0b5f20da-cbe3-4753-8431-9953a979c911",
   "metadata": {},
   "source": [
    "<h1>Facebook Data Crawling</h1>\n",
    "<p>In this notebook, we will crawling data from Facebook using the Facebook Graph API</p>"
   ]
  },
  {
   "cell_type": "markdown",
   "id": "54e30520-f1cc-46b5-ae6d-52dd815bd2d1",
   "metadata": {},
   "source": [
    "<h3>Install necessary library</h3>"
   ]
  },
  {
   "cell_type": "code",
   "execution_count": 3,
   "id": "395a4512-8991-458e-a3e2-cdadc36762c2",
   "metadata": {
    "tags": []
   },
   "outputs": [
    {
     "name": "stdout",
     "output_type": "stream",
     "text": [
      "Requirement already satisfied: facebook-scraper in /Users/nguyenhuynh/anaconda3/lib/python3.11/site-packages (0.2.59)\n",
      "Requirement already satisfied: pandas in /Users/nguyenhuynh/anaconda3/lib/python3.11/site-packages (1.5.3)\n",
      "Requirement already satisfied: numpy in /Users/nguyenhuynh/anaconda3/lib/python3.11/site-packages (1.24.3)\n",
      "Requirement already satisfied: dateparser<2.0.0,>=1.0.0 in /Users/nguyenhuynh/anaconda3/lib/python3.11/site-packages (from facebook-scraper) (1.1.8)\n",
      "Requirement already satisfied: demjson3<4.0.0,>=3.0.5 in /Users/nguyenhuynh/anaconda3/lib/python3.11/site-packages (from facebook-scraper) (3.0.6)\n",
      "Requirement already satisfied: requests-html<0.11.0,>=0.10.0 in /Users/nguyenhuynh/anaconda3/lib/python3.11/site-packages (from facebook-scraper) (0.10.0)\n",
      "Requirement already satisfied: python-dateutil>=2.8.1 in /Users/nguyenhuynh/anaconda3/lib/python3.11/site-packages (from pandas) (2.8.2)\n",
      "Requirement already satisfied: pytz>=2020.1 in /Users/nguyenhuynh/anaconda3/lib/python3.11/site-packages (from pandas) (2022.7)\n",
      "Requirement already satisfied: regex!=2019.02.19,!=2021.8.27 in /Users/nguyenhuynh/anaconda3/lib/python3.11/site-packages (from dateparser<2.0.0,>=1.0.0->facebook-scraper) (2022.7.9)\n",
      "Requirement already satisfied: tzlocal in /Users/nguyenhuynh/anaconda3/lib/python3.11/site-packages (from dateparser<2.0.0,>=1.0.0->facebook-scraper) (5.2)\n",
      "Requirement already satisfied: six>=1.5 in /Users/nguyenhuynh/anaconda3/lib/python3.11/site-packages (from python-dateutil>=2.8.1->pandas) (1.16.0)\n",
      "Requirement already satisfied: requests in /Users/nguyenhuynh/anaconda3/lib/python3.11/site-packages (from requests-html<0.11.0,>=0.10.0->facebook-scraper) (2.31.0)\n",
      "Requirement already satisfied: pyquery in /Users/nguyenhuynh/anaconda3/lib/python3.11/site-packages (from requests-html<0.11.0,>=0.10.0->facebook-scraper) (2.0.0)\n",
      "Requirement already satisfied: fake-useragent in /Users/nguyenhuynh/anaconda3/lib/python3.11/site-packages (from requests-html<0.11.0,>=0.10.0->facebook-scraper) (1.3.0)\n",
      "Requirement already satisfied: parse in /Users/nguyenhuynh/anaconda3/lib/python3.11/site-packages (from requests-html<0.11.0,>=0.10.0->facebook-scraper) (1.19.1)\n",
      "Requirement already satisfied: bs4 in /Users/nguyenhuynh/anaconda3/lib/python3.11/site-packages (from requests-html<0.11.0,>=0.10.0->facebook-scraper) (0.0.1)\n",
      "Requirement already satisfied: w3lib in /Users/nguyenhuynh/anaconda3/lib/python3.11/site-packages (from requests-html<0.11.0,>=0.10.0->facebook-scraper) (1.21.0)\n",
      "Requirement already satisfied: pyppeteer>=0.0.14 in /Users/nguyenhuynh/anaconda3/lib/python3.11/site-packages (from requests-html<0.11.0,>=0.10.0->facebook-scraper) (1.0.2)\n",
      "Requirement already satisfied: appdirs<2.0.0,>=1.4.3 in /Users/nguyenhuynh/anaconda3/lib/python3.11/site-packages (from pyppeteer>=0.0.14->requests-html<0.11.0,>=0.10.0->facebook-scraper) (1.4.4)\n",
      "Requirement already satisfied: certifi>=2021 in /Users/nguyenhuynh/anaconda3/lib/python3.11/site-packages (from pyppeteer>=0.0.14->requests-html<0.11.0,>=0.10.0->facebook-scraper) (2023.7.22)\n",
      "Requirement already satisfied: importlib-metadata>=1.4 in /Users/nguyenhuynh/anaconda3/lib/python3.11/site-packages (from pyppeteer>=0.0.14->requests-html<0.11.0,>=0.10.0->facebook-scraper) (6.0.0)\n",
      "Requirement already satisfied: pyee<9.0.0,>=8.1.0 in /Users/nguyenhuynh/anaconda3/lib/python3.11/site-packages (from pyppeteer>=0.0.14->requests-html<0.11.0,>=0.10.0->facebook-scraper) (8.2.2)\n",
      "Requirement already satisfied: tqdm<5.0.0,>=4.42.1 in /Users/nguyenhuynh/anaconda3/lib/python3.11/site-packages (from pyppeteer>=0.0.14->requests-html<0.11.0,>=0.10.0->facebook-scraper) (4.65.0)\n",
      "Requirement already satisfied: urllib3<2.0.0,>=1.25.8 in /Users/nguyenhuynh/anaconda3/lib/python3.11/site-packages (from pyppeteer>=0.0.14->requests-html<0.11.0,>=0.10.0->facebook-scraper) (1.26.16)\n",
      "Requirement already satisfied: websockets<11.0,>=10.0 in /Users/nguyenhuynh/anaconda3/lib/python3.11/site-packages (from pyppeteer>=0.0.14->requests-html<0.11.0,>=0.10.0->facebook-scraper) (10.4)\n",
      "Requirement already satisfied: beautifulsoup4 in /Users/nguyenhuynh/anaconda3/lib/python3.11/site-packages (from bs4->requests-html<0.11.0,>=0.10.0->facebook-scraper) (4.12.2)\n",
      "Requirement already satisfied: lxml>=2.1 in /Users/nguyenhuynh/anaconda3/lib/python3.11/site-packages (from pyquery->requests-html<0.11.0,>=0.10.0->facebook-scraper) (4.9.2)\n",
      "Requirement already satisfied: cssselect>=1.2.0 in /Users/nguyenhuynh/anaconda3/lib/python3.11/site-packages (from pyquery->requests-html<0.11.0,>=0.10.0->facebook-scraper) (1.2.0)\n",
      "Requirement already satisfied: charset-normalizer<4,>=2 in /Users/nguyenhuynh/anaconda3/lib/python3.11/site-packages (from requests->requests-html<0.11.0,>=0.10.0->facebook-scraper) (2.0.4)\n",
      "Requirement already satisfied: idna<4,>=2.5 in /Users/nguyenhuynh/anaconda3/lib/python3.11/site-packages (from requests->requests-html<0.11.0,>=0.10.0->facebook-scraper) (3.4)\n",
      "Requirement already satisfied: zipp>=0.5 in /Users/nguyenhuynh/anaconda3/lib/python3.11/site-packages (from importlib-metadata>=1.4->pyppeteer>=0.0.14->requests-html<0.11.0,>=0.10.0->facebook-scraper) (3.11.0)\n",
      "Requirement already satisfied: soupsieve>1.2 in /Users/nguyenhuynh/anaconda3/lib/python3.11/site-packages (from beautifulsoup4->bs4->requests-html<0.11.0,>=0.10.0->facebook-scraper) (2.4)\n",
      "Note: you may need to restart the kernel to use updated packages.\n"
     ]
    }
   ],
   "source": [
    "%pip install facebook-scraper pandas numpy"
   ]
  },
  {
   "cell_type": "code",
   "execution_count": 1,
   "id": "2d6d29f0-b49b-4120-ae92-b72fd0e37bd4",
   "metadata": {
    "tags": []
   },
   "outputs": [],
   "source": [
    "import pandas as pd\n",
    "import numpy as np\n",
    "from facebook_scraper import *\n",
    "import time\n",
    "import datetime"
   ]
  },
  {
   "cell_type": "markdown",
   "id": "4e423e1a-13dc-432d-b1c9-0feb36c99e24",
   "metadata": {},
   "source": [
    "<h3>Crawling process</h3>"
   ]
  },
  {
   "cell_type": "code",
   "execution_count": 2,
   "id": "5393fa6f-82a9-4bd8-a35d-6472e3d3bfce",
   "metadata": {
    "tags": []
   },
   "outputs": [],
   "source": [
    "FANPAGE_LINKS = [\"JollibeeVietnam\", \"ilovelotteria\", \"PopeyesVN\", \"KFCVietnam\"]\n",
    "FOLDER_PATH = \"./Data2\"\n",
    "COOKIE_PATH = \"./cookies.txt\"\n",
    "OPTION = {\"comments\": True, \"reactions\": True, \"allow_extra_requests\": True, \"posts_per_page\":10}\n",
    "\n",
    "PAGES_NUMBER = 40\n",
    "\n",
    "post_link = {\n",
    "    fanpage : [] for fanpage in FANPAGE_LINKS\n",
    "}\n"
   ]
  },
  {
   "cell_type": "code",
   "execution_count": 5,
   "id": "cf860a92-d244-48cf-8da7-1c7ca0aeba0a",
   "metadata": {
    "tags": []
   },
   "outputs": [],
   "source": [
    "start_url = None\n",
    "PAGES_NUMBER = 100"
   ]
  },
  {
   "cell_type": "markdown",
   "id": "1ed3c2ef-efca-4279-b0bd-1a58f8377f53",
   "metadata": {},
   "source": [
    "<h3>Crawling Jollibee VietNam</h3>"
   ]
  },
  {
   "cell_type": "code",
   "execution_count": null,
   "id": "4d47322f-4c0b-4c41-bd65-4f478eabcf30",
   "metadata": {
    "tags": []
   },
   "outputs": [
    {
     "name": "stderr",
     "output_type": "stream",
     "text": [
      "/Users/nguyenhuynh/anaconda3/lib/python3.11/site-packages/facebook_scraper/facebook_scraper.py:855: UserWarning: Facebook language detected as en_GB - for best results, set to en_US\n",
      "  warnings.warn(\n"
     ]
    }
   ],
   "source": [
    "import random\n",
    "\n",
    "def handle_pagination_url(url):\n",
    "        global start_url\n",
    "        start_url = url\n",
    "\n",
    "FANPAGE_LINK = FANPAGE_LINKS[0]\n",
    "\n",
    "    \n",
    "\n",
    "while True:\n",
    "    try:\n",
    "        for post in get_posts(FANPAGE_LINK,\n",
    "                    options = {  \"comments\" : True,\"reactions\": True, \"allow_extra_requests\": True ,\n",
    "                               \"post_per_page\" : 100,\"reactors\" :False},\n",
    "                    extra_info=True, pages=PAGES_NUMBER, cookies=COOKIE_PATH,page_limit=None, start_url=start_url, request_url_callback=handle_pagination_url ) :\n",
    "            post[\"start_url\"] = start_url\n",
    "\n",
    "            post_link[FANPAGE_LINK].append(post)\n",
    "            print(len(post_link[FANPAGE_LINK]))\n",
    "            time.sleep(random.randrange(2, 10, 1));\n",
    "        print(\"All done\")\n",
    "        break;\n",
    "\n",
    "    except exceptions.TemporarilyBanned:\n",
    "        print(\"Temporarily banned, sleeping for 10m\")\n",
    "        time.sleep(1000)"
   ]
  },
  {
   "cell_type": "code",
   "execution_count": 24,
   "id": "87300c6d-e3bc-413b-afa9-dfa730ae02e6",
   "metadata": {
    "tags": []
   },
   "outputs": [
    {
     "data": {
      "text/plain": [
       "295"
      ]
     },
     "execution_count": 24,
     "metadata": {},
     "output_type": "execute_result"
    }
   ],
   "source": [
    "len(post_link[FANPAGE_LINKS[0]])"
   ]
  },
  {
   "cell_type": "markdown",
   "id": "2c73c169-b31d-46c7-b0a4-4e828631fb1f",
   "metadata": {},
   "source": [
    "<h3>Crawling Lotteria</h3>"
   ]
  },
  {
   "cell_type": "code",
   "execution_count": 21,
   "id": "2caa9680-697e-4425-b9f4-c9dcf18c490d",
   "metadata": {
    "tags": []
   },
   "outputs": [
    {
     "name": "stdout",
     "output_type": "stream",
     "text": [
      "113\n",
      "114\n"
     ]
    },
    {
     "name": "stderr",
     "output_type": "stream",
     "text": [
      "/Users/nguyenhuynh/anaconda3/lib/python3.11/site-packages/facebook_scraper/facebook_scraper.py:908: UserWarning: Facebook served mbasic/noscript content unexpectedly on https://m.facebook.com/ufi/reaction/profile/browser/fetch/?ft_ent_identifier=458273732587207&limit=50&reaction_type=7&reaction_id=908563459236466&shown_ids&total_count=1&paipv=0&eav=AfZykJajKyInzsZyBjMj0UxyaZhgwD0JNZ95mOet3u95_gL37yAZnTKJSyde8DL-9DM\n",
      "  warnings.warn(\n"
     ]
    },
    {
     "name": "stdout",
     "output_type": "stream",
     "text": [
      "115\n"
     ]
    },
    {
     "name": "stderr",
     "output_type": "stream",
     "text": [
      "/Users/nguyenhuynh/anaconda3/lib/python3.11/site-packages/facebook_scraper/facebook_scraper.py:908: UserWarning: Facebook served mbasic/noscript content unexpectedly on https://m.facebook.com/ufi/reaction/profile/browser/fetch/?ft_ent_identifier=1014276202553356&limit=50&reaction_type=1&reaction_id=1635855486666999&shown_ids=100030522546256%2C100010212617579&total_count=3&paipv=0&eav=AfbHyefycVALG7yqdrTEFgniIfgTVqe0gV7PmYGx5Ek7eM1TsYnWWEZuilP3kPszqz8\n",
      "  warnings.warn(\n"
     ]
    },
    {
     "name": "stdout",
     "output_type": "stream",
     "text": [
      "116\n",
      "117\n",
      "118\n",
      "119\n",
      "120\n",
      "121\n",
      "122\n",
      "123\n",
      "124\n",
      "125\n",
      "126\n",
      "127\n",
      "128\n",
      "129\n"
     ]
    },
    {
     "name": "stderr",
     "output_type": "stream",
     "text": [
      "/Users/nguyenhuynh/anaconda3/lib/python3.11/site-packages/facebook_scraper/facebook_scraper.py:908: UserWarning: Facebook served mbasic/noscript content unexpectedly on https://m.facebook.com/ufi/reaction/profile/browser/fetch/?ft_ent_identifier=711391126832062&limit=50&reaction_type=7&reaction_id=908563459236466&shown_ids&total_count=1&paipv=0&eav=AfZW71iSTMQitozeebR7MVnXFd4snTQQa-ivKkdUhMVJM2ye-TkgrfXaNx1Z8lrNl3k\n",
      "  warnings.warn(\n"
     ]
    },
    {
     "name": "stdout",
     "output_type": "stream",
     "text": [
      "130\n",
      "131\n",
      "132\n",
      "133\n",
      "134\n",
      "135\n",
      "136\n",
      "137\n",
      "138\n",
      "139\n",
      "140\n",
      "141\n",
      "142\n",
      "143\n",
      "144\n"
     ]
    },
    {
     "name": "stderr",
     "output_type": "stream",
     "text": [
      "Traceback (most recent call last):\n",
      "  File \"/Users/nguyenhuynh/anaconda3/lib/python3.11/site-packages/facebook_scraper/utils.py\", line 279, in safe_consume\n",
      "    for item in generator:\n",
      "  File \"/Users/nguyenhuynh/anaconda3/lib/python3.11/site-packages/facebook_scraper/extractors.py\", line 1140, in extract_comment_replies\n",
      "    for action in data['payload']['actions']:\n",
      "                  ~~~~~~~~~~~~~~~^^^^^^^^^^^\n",
      "TypeError: 'NoneType' object is not subscriptable\n",
      "Traceback (most recent call last):\n",
      "  File \"/Users/nguyenhuynh/anaconda3/lib/python3.11/site-packages/facebook_scraper/utils.py\", line 279, in safe_consume\n",
      "    for item in generator:\n",
      "  File \"/Users/nguyenhuynh/anaconda3/lib/python3.11/site-packages/facebook_scraper/extractors.py\", line 1140, in extract_comment_replies\n",
      "    for action in data['payload']['actions']:\n",
      "                  ~~~~~~~~~~~~~~~^^^^^^^^^^^\n",
      "TypeError: 'NoneType' object is not subscriptable\n",
      "Traceback (most recent call last):\n",
      "  File \"/Users/nguyenhuynh/anaconda3/lib/python3.11/site-packages/facebook_scraper/utils.py\", line 279, in safe_consume\n",
      "    for item in generator:\n",
      "  File \"/Users/nguyenhuynh/anaconda3/lib/python3.11/site-packages/facebook_scraper/extractors.py\", line 1140, in extract_comment_replies\n",
      "    for action in data['payload']['actions']:\n",
      "                  ~~~~~~~~~~~~~~~^^^^^^^^^^^\n",
      "TypeError: 'NoneType' object is not subscriptable\n",
      "Traceback (most recent call last):\n",
      "  File \"/Users/nguyenhuynh/anaconda3/lib/python3.11/site-packages/facebook_scraper/utils.py\", line 279, in safe_consume\n",
      "    for item in generator:\n",
      "  File \"/Users/nguyenhuynh/anaconda3/lib/python3.11/site-packages/facebook_scraper/extractors.py\", line 1140, in extract_comment_replies\n",
      "    for action in data['payload']['actions']:\n",
      "                  ~~~~~~~~~~~~~~~^^^^^^^^^^^\n",
      "TypeError: 'NoneType' object is not subscriptable\n",
      "Traceback (most recent call last):\n",
      "  File \"/Users/nguyenhuynh/anaconda3/lib/python3.11/site-packages/facebook_scraper/utils.py\", line 279, in safe_consume\n",
      "    for item in generator:\n",
      "  File \"/Users/nguyenhuynh/anaconda3/lib/python3.11/site-packages/facebook_scraper/extractors.py\", line 1140, in extract_comment_replies\n",
      "    for action in data['payload']['actions']:\n",
      "                  ~~~~~~~~~~~~~~~^^^^^^^^^^^\n",
      "TypeError: 'NoneType' object is not subscriptable\n",
      "Traceback (most recent call last):\n",
      "  File \"/Users/nguyenhuynh/anaconda3/lib/python3.11/site-packages/facebook_scraper/utils.py\", line 279, in safe_consume\n",
      "    for item in generator:\n",
      "  File \"/Users/nguyenhuynh/anaconda3/lib/python3.11/site-packages/facebook_scraper/extractors.py\", line 1140, in extract_comment_replies\n",
      "    for action in data['payload']['actions']:\n",
      "                  ~~~~~~~~~~~~~~~^^^^^^^^^^^\n",
      "TypeError: 'NoneType' object is not subscriptable\n",
      "Traceback (most recent call last):\n",
      "  File \"/Users/nguyenhuynh/anaconda3/lib/python3.11/site-packages/facebook_scraper/utils.py\", line 279, in safe_consume\n",
      "    for item in generator:\n",
      "  File \"/Users/nguyenhuynh/anaconda3/lib/python3.11/site-packages/facebook_scraper/extractors.py\", line 1140, in extract_comment_replies\n",
      "    for action in data['payload']['actions']:\n",
      "                  ~~~~~~~~~~~~~~~^^^^^^^^^^^\n",
      "TypeError: 'NoneType' object is not subscriptable\n",
      "Traceback (most recent call last):\n",
      "  File \"/Users/nguyenhuynh/anaconda3/lib/python3.11/site-packages/facebook_scraper/utils.py\", line 279, in safe_consume\n",
      "    for item in generator:\n",
      "  File \"/Users/nguyenhuynh/anaconda3/lib/python3.11/site-packages/facebook_scraper/extractors.py\", line 1140, in extract_comment_replies\n",
      "    for action in data['payload']['actions']:\n",
      "                  ~~~~~~~~~~~~~~~^^^^^^^^^^^\n",
      "TypeError: 'NoneType' object is not subscriptable\n"
     ]
    },
    {
     "name": "stdout",
     "output_type": "stream",
     "text": [
      "145\n",
      "146\n",
      "147\n",
      "148\n",
      "149\n",
      "150\n",
      "151\n",
      "152\n",
      "153\n",
      "154\n",
      "155\n",
      "156\n",
      "157\n",
      "158\n",
      "159\n",
      "160\n",
      "161\n",
      "162\n",
      "163\n",
      "164\n",
      "165\n",
      "166\n",
      "167\n",
      "168\n",
      "169\n",
      "170\n",
      "171\n",
      "172\n",
      "173\n",
      "174\n",
      "175\n",
      "176\n",
      "177\n",
      "178\n",
      "179\n",
      "180\n",
      "181\n",
      "182\n",
      "183\n",
      "184\n",
      "185\n",
      "186\n",
      "187\n",
      "188\n",
      "189\n",
      "190\n",
      "191\n",
      "192\n",
      "193\n",
      "194\n",
      "195\n",
      "196\n",
      "197\n",
      "198\n",
      "199\n",
      "200\n",
      "201\n",
      "202\n",
      "203\n",
      "204\n",
      "205\n",
      "206\n"
     ]
    },
    {
     "name": "stderr",
     "output_type": "stream",
     "text": [
      "Traceback (most recent call last):\n",
      "  File \"/Users/nguyenhuynh/anaconda3/lib/python3.11/site-packages/facebook_scraper/utils.py\", line 279, in safe_consume\n",
      "    for item in generator:\n",
      "  File \"/Users/nguyenhuynh/anaconda3/lib/python3.11/site-packages/facebook_scraper/extractors.py\", line 1140, in extract_comment_replies\n",
      "    for action in data['payload']['actions']:\n",
      "                  ~~~~~~~~~~~~~~~^^^^^^^^^^^\n",
      "TypeError: 'NoneType' object is not subscriptable\n"
     ]
    },
    {
     "name": "stdout",
     "output_type": "stream",
     "text": [
      "207\n",
      "208\n",
      "209\n",
      "210\n",
      "211\n",
      "212\n",
      "213\n",
      "214\n",
      "215\n",
      "216\n",
      "217\n",
      "218\n",
      "219\n",
      "220\n",
      "221\n"
     ]
    },
    {
     "name": "stderr",
     "output_type": "stream",
     "text": [
      "Traceback (most recent call last):\n",
      "  File \"/Users/nguyenhuynh/anaconda3/lib/python3.11/site-packages/facebook_scraper/utils.py\", line 279, in safe_consume\n",
      "    for item in generator:\n",
      "  File \"/Users/nguyenhuynh/anaconda3/lib/python3.11/site-packages/facebook_scraper/extractors.py\", line 1140, in extract_comment_replies\n",
      "    for action in data['payload']['actions']:\n",
      "                  ~~~~~~~~~~~~~~~^^^^^^^^^^^\n",
      "TypeError: 'NoneType' object is not subscriptable\n",
      "Traceback (most recent call last):\n",
      "  File \"/Users/nguyenhuynh/anaconda3/lib/python3.11/site-packages/facebook_scraper/utils.py\", line 279, in safe_consume\n",
      "    for item in generator:\n",
      "  File \"/Users/nguyenhuynh/anaconda3/lib/python3.11/site-packages/facebook_scraper/extractors.py\", line 1140, in extract_comment_replies\n",
      "    for action in data['payload']['actions']:\n",
      "                  ~~~~~~~~~~~~~~~^^^^^^^^^^^\n",
      "TypeError: 'NoneType' object is not subscriptable\n",
      "Traceback (most recent call last):\n",
      "  File \"/Users/nguyenhuynh/anaconda3/lib/python3.11/site-packages/facebook_scraper/utils.py\", line 279, in safe_consume\n",
      "    for item in generator:\n",
      "  File \"/Users/nguyenhuynh/anaconda3/lib/python3.11/site-packages/facebook_scraper/extractors.py\", line 1140, in extract_comment_replies\n",
      "    for action in data['payload']['actions']:\n",
      "                  ~~~~~~~~~~~~~~~^^^^^^^^^^^\n",
      "TypeError: 'NoneType' object is not subscriptable\n",
      "Traceback (most recent call last):\n",
      "  File \"/Users/nguyenhuynh/anaconda3/lib/python3.11/site-packages/facebook_scraper/utils.py\", line 279, in safe_consume\n",
      "    for item in generator:\n",
      "  File \"/Users/nguyenhuynh/anaconda3/lib/python3.11/site-packages/facebook_scraper/extractors.py\", line 1140, in extract_comment_replies\n",
      "    for action in data['payload']['actions']:\n",
      "                  ~~~~~~~~~~~~~~~^^^^^^^^^^^\n",
      "TypeError: 'NoneType' object is not subscriptable\n",
      "Traceback (most recent call last):\n",
      "  File \"/Users/nguyenhuynh/anaconda3/lib/python3.11/site-packages/facebook_scraper/utils.py\", line 279, in safe_consume\n",
      "    for item in generator:\n",
      "  File \"/Users/nguyenhuynh/anaconda3/lib/python3.11/site-packages/facebook_scraper/extractors.py\", line 1140, in extract_comment_replies\n",
      "    for action in data['payload']['actions']:\n",
      "                  ~~~~~~~~~~~~~~~^^^^^^^^^^^\n",
      "TypeError: 'NoneType' object is not subscriptable\n",
      "Traceback (most recent call last):\n",
      "  File \"/Users/nguyenhuynh/anaconda3/lib/python3.11/site-packages/facebook_scraper/utils.py\", line 279, in safe_consume\n",
      "    for item in generator:\n",
      "  File \"/Users/nguyenhuynh/anaconda3/lib/python3.11/site-packages/facebook_scraper/extractors.py\", line 1140, in extract_comment_replies\n",
      "    for action in data['payload']['actions']:\n",
      "                  ~~~~~~~~~~~~~~~^^^^^^^^^^^\n",
      "TypeError: 'NoneType' object is not subscriptable\n",
      "Traceback (most recent call last):\n",
      "  File \"/Users/nguyenhuynh/anaconda3/lib/python3.11/site-packages/facebook_scraper/utils.py\", line 279, in safe_consume\n",
      "    for item in generator:\n",
      "  File \"/Users/nguyenhuynh/anaconda3/lib/python3.11/site-packages/facebook_scraper/extractors.py\", line 1140, in extract_comment_replies\n",
      "    for action in data['payload']['actions']:\n",
      "                  ~~~~~~~~~~~~~~~^^^^^^^^^^^\n",
      "TypeError: 'NoneType' object is not subscriptable\n"
     ]
    },
    {
     "name": "stdout",
     "output_type": "stream",
     "text": [
      "222\n",
      "223\n",
      "224\n",
      "225\n",
      "226\n",
      "227\n",
      "228\n",
      "229\n",
      "230\n",
      "231\n",
      "232\n",
      "233\n",
      "234\n",
      "235\n",
      "236\n",
      "237\n",
      "238\n",
      "239\n",
      "240\n",
      "241\n",
      "242\n",
      "243\n",
      "244\n",
      "245\n",
      "246\n",
      "247\n",
      "248\n",
      "249\n",
      "250\n",
      "251\n",
      "252\n",
      "253\n",
      "Temporarily banned, sleeping for 10m\n"
     ]
    },
    {
     "ename": "ReadTimeout",
     "evalue": "HTTPSConnectionPool(host='facebook.com', port=443): Read timed out. (read timeout=30)",
     "output_type": "error",
     "traceback": [
      "\u001b[0;31m---------------------------------------------------------------------------\u001b[0m",
      "\u001b[0;31mTimeoutError\u001b[0m                              Traceback (most recent call last)",
      "File \u001b[0;32m~/anaconda3/lib/python3.11/site-packages/urllib3/connectionpool.py:466\u001b[0m, in \u001b[0;36mHTTPConnectionPool._make_request\u001b[0;34m(self, conn, method, url, timeout, chunked, **httplib_request_kw)\u001b[0m\n\u001b[1;32m    462\u001b[0m         \u001b[38;5;28;01mexcept\u001b[39;00m \u001b[38;5;167;01mBaseException\u001b[39;00m \u001b[38;5;28;01mas\u001b[39;00m e:\n\u001b[1;32m    463\u001b[0m             \u001b[38;5;66;03m# Remove the TypeError from the exception chain in\u001b[39;00m\n\u001b[1;32m    464\u001b[0m             \u001b[38;5;66;03m# Python 3 (including for exceptions like SystemExit).\u001b[39;00m\n\u001b[1;32m    465\u001b[0m             \u001b[38;5;66;03m# Otherwise it looks like a bug in the code.\u001b[39;00m\n\u001b[0;32m--> 466\u001b[0m             six\u001b[38;5;241m.\u001b[39mraise_from(e, \u001b[38;5;28;01mNone\u001b[39;00m)\n\u001b[1;32m    467\u001b[0m \u001b[38;5;28;01mexcept\u001b[39;00m (SocketTimeout, BaseSSLError, SocketError) \u001b[38;5;28;01mas\u001b[39;00m e:\n",
      "File \u001b[0;32m<string>:3\u001b[0m, in \u001b[0;36mraise_from\u001b[0;34m(value, from_value)\u001b[0m\n",
      "File \u001b[0;32m~/anaconda3/lib/python3.11/site-packages/urllib3/connectionpool.py:461\u001b[0m, in \u001b[0;36mHTTPConnectionPool._make_request\u001b[0;34m(self, conn, method, url, timeout, chunked, **httplib_request_kw)\u001b[0m\n\u001b[1;32m    460\u001b[0m \u001b[38;5;28;01mtry\u001b[39;00m:\n\u001b[0;32m--> 461\u001b[0m     httplib_response \u001b[38;5;241m=\u001b[39m conn\u001b[38;5;241m.\u001b[39mgetresponse()\n\u001b[1;32m    462\u001b[0m \u001b[38;5;28;01mexcept\u001b[39;00m \u001b[38;5;167;01mBaseException\u001b[39;00m \u001b[38;5;28;01mas\u001b[39;00m e:\n\u001b[1;32m    463\u001b[0m     \u001b[38;5;66;03m# Remove the TypeError from the exception chain in\u001b[39;00m\n\u001b[1;32m    464\u001b[0m     \u001b[38;5;66;03m# Python 3 (including for exceptions like SystemExit).\u001b[39;00m\n\u001b[1;32m    465\u001b[0m     \u001b[38;5;66;03m# Otherwise it looks like a bug in the code.\u001b[39;00m\n",
      "File \u001b[0;32m~/anaconda3/lib/python3.11/http/client.py:1378\u001b[0m, in \u001b[0;36mHTTPConnection.getresponse\u001b[0;34m(self)\u001b[0m\n\u001b[1;32m   1377\u001b[0m \u001b[38;5;28;01mtry\u001b[39;00m:\n\u001b[0;32m-> 1378\u001b[0m     response\u001b[38;5;241m.\u001b[39mbegin()\n\u001b[1;32m   1379\u001b[0m \u001b[38;5;28;01mexcept\u001b[39;00m \u001b[38;5;167;01mConnectionError\u001b[39;00m:\n",
      "File \u001b[0;32m~/anaconda3/lib/python3.11/http/client.py:318\u001b[0m, in \u001b[0;36mHTTPResponse.begin\u001b[0;34m(self)\u001b[0m\n\u001b[1;32m    317\u001b[0m \u001b[38;5;28;01mwhile\u001b[39;00m \u001b[38;5;28;01mTrue\u001b[39;00m:\n\u001b[0;32m--> 318\u001b[0m     version, status, reason \u001b[38;5;241m=\u001b[39m \u001b[38;5;28mself\u001b[39m\u001b[38;5;241m.\u001b[39m_read_status()\n\u001b[1;32m    319\u001b[0m     \u001b[38;5;28;01mif\u001b[39;00m status \u001b[38;5;241m!=\u001b[39m CONTINUE:\n",
      "File \u001b[0;32m~/anaconda3/lib/python3.11/http/client.py:279\u001b[0m, in \u001b[0;36mHTTPResponse._read_status\u001b[0;34m(self)\u001b[0m\n\u001b[1;32m    278\u001b[0m \u001b[38;5;28;01mdef\u001b[39;00m \u001b[38;5;21m_read_status\u001b[39m(\u001b[38;5;28mself\u001b[39m):\n\u001b[0;32m--> 279\u001b[0m     line \u001b[38;5;241m=\u001b[39m \u001b[38;5;28mstr\u001b[39m(\u001b[38;5;28mself\u001b[39m\u001b[38;5;241m.\u001b[39mfp\u001b[38;5;241m.\u001b[39mreadline(_MAXLINE \u001b[38;5;241m+\u001b[39m \u001b[38;5;241m1\u001b[39m), \u001b[38;5;124m\"\u001b[39m\u001b[38;5;124miso-8859-1\u001b[39m\u001b[38;5;124m\"\u001b[39m)\n\u001b[1;32m    280\u001b[0m     \u001b[38;5;28;01mif\u001b[39;00m \u001b[38;5;28mlen\u001b[39m(line) \u001b[38;5;241m>\u001b[39m _MAXLINE:\n",
      "File \u001b[0;32m~/anaconda3/lib/python3.11/socket.py:706\u001b[0m, in \u001b[0;36mSocketIO.readinto\u001b[0;34m(self, b)\u001b[0m\n\u001b[1;32m    705\u001b[0m \u001b[38;5;28;01mtry\u001b[39;00m:\n\u001b[0;32m--> 706\u001b[0m     \u001b[38;5;28;01mreturn\u001b[39;00m \u001b[38;5;28mself\u001b[39m\u001b[38;5;241m.\u001b[39m_sock\u001b[38;5;241m.\u001b[39mrecv_into(b)\n\u001b[1;32m    707\u001b[0m \u001b[38;5;28;01mexcept\u001b[39;00m timeout:\n",
      "File \u001b[0;32m~/anaconda3/lib/python3.11/ssl.py:1278\u001b[0m, in \u001b[0;36mSSLSocket.recv_into\u001b[0;34m(self, buffer, nbytes, flags)\u001b[0m\n\u001b[1;32m   1275\u001b[0m         \u001b[38;5;28;01mraise\u001b[39;00m \u001b[38;5;167;01mValueError\u001b[39;00m(\n\u001b[1;32m   1276\u001b[0m           \u001b[38;5;124m\"\u001b[39m\u001b[38;5;124mnon-zero flags not allowed in calls to recv_into() on \u001b[39m\u001b[38;5;132;01m%s\u001b[39;00m\u001b[38;5;124m\"\u001b[39m \u001b[38;5;241m%\u001b[39m\n\u001b[1;32m   1277\u001b[0m           \u001b[38;5;28mself\u001b[39m\u001b[38;5;241m.\u001b[39m\u001b[38;5;18m__class__\u001b[39m)\n\u001b[0;32m-> 1278\u001b[0m     \u001b[38;5;28;01mreturn\u001b[39;00m \u001b[38;5;28mself\u001b[39m\u001b[38;5;241m.\u001b[39mread(nbytes, buffer)\n\u001b[1;32m   1279\u001b[0m \u001b[38;5;28;01melse\u001b[39;00m:\n",
      "File \u001b[0;32m~/anaconda3/lib/python3.11/ssl.py:1134\u001b[0m, in \u001b[0;36mSSLSocket.read\u001b[0;34m(self, len, buffer)\u001b[0m\n\u001b[1;32m   1133\u001b[0m \u001b[38;5;28;01mif\u001b[39;00m buffer \u001b[38;5;129;01mis\u001b[39;00m \u001b[38;5;129;01mnot\u001b[39;00m \u001b[38;5;28;01mNone\u001b[39;00m:\n\u001b[0;32m-> 1134\u001b[0m     \u001b[38;5;28;01mreturn\u001b[39;00m \u001b[38;5;28mself\u001b[39m\u001b[38;5;241m.\u001b[39m_sslobj\u001b[38;5;241m.\u001b[39mread(\u001b[38;5;28mlen\u001b[39m, buffer)\n\u001b[1;32m   1135\u001b[0m \u001b[38;5;28;01melse\u001b[39;00m:\n",
      "\u001b[0;31mTimeoutError\u001b[0m: The read operation timed out",
      "\nDuring handling of the above exception, another exception occurred:\n",
      "\u001b[0;31mReadTimeoutError\u001b[0m                          Traceback (most recent call last)",
      "File \u001b[0;32m~/anaconda3/lib/python3.11/site-packages/requests/adapters.py:486\u001b[0m, in \u001b[0;36mHTTPAdapter.send\u001b[0;34m(self, request, stream, timeout, verify, cert, proxies)\u001b[0m\n\u001b[1;32m    485\u001b[0m \u001b[38;5;28;01mtry\u001b[39;00m:\n\u001b[0;32m--> 486\u001b[0m     resp \u001b[38;5;241m=\u001b[39m conn\u001b[38;5;241m.\u001b[39murlopen(\n\u001b[1;32m    487\u001b[0m         method\u001b[38;5;241m=\u001b[39mrequest\u001b[38;5;241m.\u001b[39mmethod,\n\u001b[1;32m    488\u001b[0m         url\u001b[38;5;241m=\u001b[39murl,\n\u001b[1;32m    489\u001b[0m         body\u001b[38;5;241m=\u001b[39mrequest\u001b[38;5;241m.\u001b[39mbody,\n\u001b[1;32m    490\u001b[0m         headers\u001b[38;5;241m=\u001b[39mrequest\u001b[38;5;241m.\u001b[39mheaders,\n\u001b[1;32m    491\u001b[0m         redirect\u001b[38;5;241m=\u001b[39m\u001b[38;5;28;01mFalse\u001b[39;00m,\n\u001b[1;32m    492\u001b[0m         assert_same_host\u001b[38;5;241m=\u001b[39m\u001b[38;5;28;01mFalse\u001b[39;00m,\n\u001b[1;32m    493\u001b[0m         preload_content\u001b[38;5;241m=\u001b[39m\u001b[38;5;28;01mFalse\u001b[39;00m,\n\u001b[1;32m    494\u001b[0m         decode_content\u001b[38;5;241m=\u001b[39m\u001b[38;5;28;01mFalse\u001b[39;00m,\n\u001b[1;32m    495\u001b[0m         retries\u001b[38;5;241m=\u001b[39m\u001b[38;5;28mself\u001b[39m\u001b[38;5;241m.\u001b[39mmax_retries,\n\u001b[1;32m    496\u001b[0m         timeout\u001b[38;5;241m=\u001b[39mtimeout,\n\u001b[1;32m    497\u001b[0m         chunked\u001b[38;5;241m=\u001b[39mchunked,\n\u001b[1;32m    498\u001b[0m     )\n\u001b[1;32m    500\u001b[0m \u001b[38;5;28;01mexcept\u001b[39;00m (ProtocolError, \u001b[38;5;167;01mOSError\u001b[39;00m) \u001b[38;5;28;01mas\u001b[39;00m err:\n",
      "File \u001b[0;32m~/anaconda3/lib/python3.11/site-packages/urllib3/connectionpool.py:798\u001b[0m, in \u001b[0;36mHTTPConnectionPool.urlopen\u001b[0;34m(self, method, url, body, headers, retries, redirect, assert_same_host, timeout, pool_timeout, release_conn, chunked, body_pos, **response_kw)\u001b[0m\n\u001b[1;32m    796\u001b[0m     e \u001b[38;5;241m=\u001b[39m ProtocolError(\u001b[38;5;124m\"\u001b[39m\u001b[38;5;124mConnection aborted.\u001b[39m\u001b[38;5;124m\"\u001b[39m, e)\n\u001b[0;32m--> 798\u001b[0m retries \u001b[38;5;241m=\u001b[39m retries\u001b[38;5;241m.\u001b[39mincrement(\n\u001b[1;32m    799\u001b[0m     method, url, error\u001b[38;5;241m=\u001b[39me, _pool\u001b[38;5;241m=\u001b[39m\u001b[38;5;28mself\u001b[39m, _stacktrace\u001b[38;5;241m=\u001b[39msys\u001b[38;5;241m.\u001b[39mexc_info()[\u001b[38;5;241m2\u001b[39m]\n\u001b[1;32m    800\u001b[0m )\n\u001b[1;32m    801\u001b[0m retries\u001b[38;5;241m.\u001b[39msleep()\n",
      "File \u001b[0;32m~/anaconda3/lib/python3.11/site-packages/urllib3/util/retry.py:550\u001b[0m, in \u001b[0;36mRetry.increment\u001b[0;34m(self, method, url, response, error, _pool, _stacktrace)\u001b[0m\n\u001b[1;32m    549\u001b[0m \u001b[38;5;28;01mif\u001b[39;00m read \u001b[38;5;129;01mis\u001b[39;00m \u001b[38;5;28;01mFalse\u001b[39;00m \u001b[38;5;129;01mor\u001b[39;00m \u001b[38;5;129;01mnot\u001b[39;00m \u001b[38;5;28mself\u001b[39m\u001b[38;5;241m.\u001b[39m_is_method_retryable(method):\n\u001b[0;32m--> 550\u001b[0m     \u001b[38;5;28;01mraise\u001b[39;00m six\u001b[38;5;241m.\u001b[39mreraise(\u001b[38;5;28mtype\u001b[39m(error), error, _stacktrace)\n\u001b[1;32m    551\u001b[0m \u001b[38;5;28;01melif\u001b[39;00m read \u001b[38;5;129;01mis\u001b[39;00m \u001b[38;5;129;01mnot\u001b[39;00m \u001b[38;5;28;01mNone\u001b[39;00m:\n",
      "File \u001b[0;32m~/anaconda3/lib/python3.11/site-packages/urllib3/packages/six.py:770\u001b[0m, in \u001b[0;36mreraise\u001b[0;34m(tp, value, tb)\u001b[0m\n\u001b[1;32m    769\u001b[0m         \u001b[38;5;28;01mraise\u001b[39;00m value\u001b[38;5;241m.\u001b[39mwith_traceback(tb)\n\u001b[0;32m--> 770\u001b[0m     \u001b[38;5;28;01mraise\u001b[39;00m value\n\u001b[1;32m    771\u001b[0m \u001b[38;5;28;01mfinally\u001b[39;00m:\n",
      "File \u001b[0;32m~/anaconda3/lib/python3.11/site-packages/urllib3/connectionpool.py:714\u001b[0m, in \u001b[0;36mHTTPConnectionPool.urlopen\u001b[0;34m(self, method, url, body, headers, retries, redirect, assert_same_host, timeout, pool_timeout, release_conn, chunked, body_pos, **response_kw)\u001b[0m\n\u001b[1;32m    713\u001b[0m \u001b[38;5;66;03m# Make the request on the httplib connection object.\u001b[39;00m\n\u001b[0;32m--> 714\u001b[0m httplib_response \u001b[38;5;241m=\u001b[39m \u001b[38;5;28mself\u001b[39m\u001b[38;5;241m.\u001b[39m_make_request(\n\u001b[1;32m    715\u001b[0m     conn,\n\u001b[1;32m    716\u001b[0m     method,\n\u001b[1;32m    717\u001b[0m     url,\n\u001b[1;32m    718\u001b[0m     timeout\u001b[38;5;241m=\u001b[39mtimeout_obj,\n\u001b[1;32m    719\u001b[0m     body\u001b[38;5;241m=\u001b[39mbody,\n\u001b[1;32m    720\u001b[0m     headers\u001b[38;5;241m=\u001b[39mheaders,\n\u001b[1;32m    721\u001b[0m     chunked\u001b[38;5;241m=\u001b[39mchunked,\n\u001b[1;32m    722\u001b[0m )\n\u001b[1;32m    724\u001b[0m \u001b[38;5;66;03m# If we're going to release the connection in ``finally:``, then\u001b[39;00m\n\u001b[1;32m    725\u001b[0m \u001b[38;5;66;03m# the response doesn't need to know about the connection. Otherwise\u001b[39;00m\n\u001b[1;32m    726\u001b[0m \u001b[38;5;66;03m# it will also try to release it and we'll have a double-release\u001b[39;00m\n\u001b[1;32m    727\u001b[0m \u001b[38;5;66;03m# mess.\u001b[39;00m\n",
      "File \u001b[0;32m~/anaconda3/lib/python3.11/site-packages/urllib3/connectionpool.py:468\u001b[0m, in \u001b[0;36mHTTPConnectionPool._make_request\u001b[0;34m(self, conn, method, url, timeout, chunked, **httplib_request_kw)\u001b[0m\n\u001b[1;32m    467\u001b[0m \u001b[38;5;28;01mexcept\u001b[39;00m (SocketTimeout, BaseSSLError, SocketError) \u001b[38;5;28;01mas\u001b[39;00m e:\n\u001b[0;32m--> 468\u001b[0m     \u001b[38;5;28mself\u001b[39m\u001b[38;5;241m.\u001b[39m_raise_timeout(err\u001b[38;5;241m=\u001b[39me, url\u001b[38;5;241m=\u001b[39murl, timeout_value\u001b[38;5;241m=\u001b[39mread_timeout)\n\u001b[1;32m    469\u001b[0m     \u001b[38;5;28;01mraise\u001b[39;00m\n",
      "File \u001b[0;32m~/anaconda3/lib/python3.11/site-packages/urllib3/connectionpool.py:357\u001b[0m, in \u001b[0;36mHTTPConnectionPool._raise_timeout\u001b[0;34m(self, err, url, timeout_value)\u001b[0m\n\u001b[1;32m    356\u001b[0m \u001b[38;5;28;01mif\u001b[39;00m \u001b[38;5;28misinstance\u001b[39m(err, SocketTimeout):\n\u001b[0;32m--> 357\u001b[0m     \u001b[38;5;28;01mraise\u001b[39;00m ReadTimeoutError(\n\u001b[1;32m    358\u001b[0m         \u001b[38;5;28mself\u001b[39m, url, \u001b[38;5;124m\"\u001b[39m\u001b[38;5;124mRead timed out. (read timeout=\u001b[39m\u001b[38;5;132;01m%s\u001b[39;00m\u001b[38;5;124m)\u001b[39m\u001b[38;5;124m\"\u001b[39m \u001b[38;5;241m%\u001b[39m timeout_value\n\u001b[1;32m    359\u001b[0m     )\n\u001b[1;32m    361\u001b[0m \u001b[38;5;66;03m# See the above comment about EAGAIN in Python 3. In Python 2 we have\u001b[39;00m\n\u001b[1;32m    362\u001b[0m \u001b[38;5;66;03m# to specifically catch it and throw the timeout error\u001b[39;00m\n",
      "\u001b[0;31mReadTimeoutError\u001b[0m: HTTPSConnectionPool(host='facebook.com', port=443): Read timed out. (read timeout=30)",
      "\nDuring handling of the above exception, another exception occurred:\n",
      "\u001b[0;31mReadTimeout\u001b[0m                               Traceback (most recent call last)",
      "Cell \u001b[0;32mIn[21], line 13\u001b[0m\n\u001b[1;32m     11\u001b[0m \u001b[38;5;28;01mwhile\u001b[39;00m \u001b[38;5;28;01mTrue\u001b[39;00m:\n\u001b[1;32m     12\u001b[0m     \u001b[38;5;28;01mtry\u001b[39;00m:\n\u001b[0;32m---> 13\u001b[0m         \u001b[38;5;28;01mfor\u001b[39;00m post \u001b[38;5;129;01min\u001b[39;00m get_posts(FANPAGE_LINK,\n\u001b[1;32m     14\u001b[0m                     options \u001b[38;5;241m=\u001b[39m {  \u001b[38;5;124m\"\u001b[39m\u001b[38;5;124mcomments\u001b[39m\u001b[38;5;124m\"\u001b[39m : \u001b[38;5;28;01mTrue\u001b[39;00m,\u001b[38;5;124m\"\u001b[39m\u001b[38;5;124mreactions\u001b[39m\u001b[38;5;124m\"\u001b[39m: \u001b[38;5;28;01mTrue\u001b[39;00m, \u001b[38;5;124m\"\u001b[39m\u001b[38;5;124mallow_extra_requests\u001b[39m\u001b[38;5;124m\"\u001b[39m: \u001b[38;5;28;01mTrue\u001b[39;00m ,\n\u001b[1;32m     15\u001b[0m                                \u001b[38;5;124m\"\u001b[39m\u001b[38;5;124mpost_per_page\u001b[39m\u001b[38;5;124m\"\u001b[39m : \u001b[38;5;241m100\u001b[39m,\u001b[38;5;124m\"\u001b[39m\u001b[38;5;124mreactors\u001b[39m\u001b[38;5;124m\"\u001b[39m :\u001b[38;5;28;01mFalse\u001b[39;00m},\n\u001b[1;32m     16\u001b[0m                     extra_info\u001b[38;5;241m=\u001b[39m\u001b[38;5;28;01mTrue\u001b[39;00m, pages\u001b[38;5;241m=\u001b[39mPAGES_NUMBER, cookies\u001b[38;5;241m=\u001b[39mCOOKIE_PATH,page_limit\u001b[38;5;241m=\u001b[39m\u001b[38;5;28;01mNone\u001b[39;00m, start_url\u001b[38;5;241m=\u001b[39mstart_url, request_url_callback\u001b[38;5;241m=\u001b[39mhandle_pagination_url ) :\n\u001b[1;32m     17\u001b[0m             post[\u001b[38;5;124m\"\u001b[39m\u001b[38;5;124mstart_url\u001b[39m\u001b[38;5;124m\"\u001b[39m] \u001b[38;5;241m=\u001b[39m start_url\n\u001b[1;32m     19\u001b[0m             post_link[FANPAGE_LINK]\u001b[38;5;241m.\u001b[39mappend(post)\n",
      "File \u001b[0;32m~/anaconda3/lib/python3.11/site-packages/facebook_scraper/__init__.py:196\u001b[0m, in \u001b[0;36mget_posts\u001b[0;34m(account, group, post_urls, hashtag, credentials, **kwargs)\u001b[0m\n\u001b[1;32m    194\u001b[0m \u001b[38;5;28;01mif\u001b[39;00m cookies \u001b[38;5;129;01mis\u001b[39;00m \u001b[38;5;129;01mnot\u001b[39;00m \u001b[38;5;28;01mNone\u001b[39;00m \u001b[38;5;129;01mand\u001b[39;00m credentials \u001b[38;5;129;01mis\u001b[39;00m \u001b[38;5;129;01mnot\u001b[39;00m \u001b[38;5;28;01mNone\u001b[39;00m:\n\u001b[1;32m    195\u001b[0m     \u001b[38;5;28;01mraise\u001b[39;00m \u001b[38;5;167;01mValueError\u001b[39;00m(\u001b[38;5;124m\"\u001b[39m\u001b[38;5;124mCan\u001b[39m\u001b[38;5;124m'\u001b[39m\u001b[38;5;124mt use cookies and credentials arguments at the same time\u001b[39m\u001b[38;5;124m\"\u001b[39m)\n\u001b[0;32m--> 196\u001b[0m set_cookies(cookies)\n\u001b[1;32m    198\u001b[0m options: Union[Dict[\u001b[38;5;28mstr\u001b[39m, Any], Set[\u001b[38;5;28mstr\u001b[39m]] \u001b[38;5;241m=\u001b[39m kwargs\u001b[38;5;241m.\u001b[39msetdefault(\u001b[38;5;124m'\u001b[39m\u001b[38;5;124moptions\u001b[39m\u001b[38;5;124m'\u001b[39m, {})\n\u001b[1;32m    199\u001b[0m \u001b[38;5;28;01mif\u001b[39;00m \u001b[38;5;28misinstance\u001b[39m(options, \u001b[38;5;28mset\u001b[39m):\n",
      "File \u001b[0;32m~/anaconda3/lib/python3.11/site-packages/facebook_scraper/__init__.py:51\u001b[0m, in \u001b[0;36mset_cookies\u001b[0;34m(cookies)\u001b[0m\n\u001b[1;32m     49\u001b[0m     \u001b[38;5;28;01mraise\u001b[39;00m exceptions\u001b[38;5;241m.\u001b[39mInvalidCookies(\u001b[38;5;124mf\u001b[39m\u001b[38;5;124m\"\u001b[39m\u001b[38;5;124mMissing cookies with name(s): \u001b[39m\u001b[38;5;132;01m{\u001b[39;00mmissing_cookies\u001b[38;5;132;01m}\u001b[39;00m\u001b[38;5;124m\"\u001b[39m)\n\u001b[1;32m     50\u001b[0m _scraper\u001b[38;5;241m.\u001b[39msession\u001b[38;5;241m.\u001b[39mcookies\u001b[38;5;241m.\u001b[39mupdate(cookies)\n\u001b[0;32m---> 51\u001b[0m \u001b[38;5;28;01mif\u001b[39;00m \u001b[38;5;129;01mnot\u001b[39;00m _scraper\u001b[38;5;241m.\u001b[39mis_logged_in():\n\u001b[1;32m     52\u001b[0m     \u001b[38;5;28;01mraise\u001b[39;00m exceptions\u001b[38;5;241m.\u001b[39mInvalidCookies(\u001b[38;5;124mf\u001b[39m\u001b[38;5;124m\"\u001b[39m\u001b[38;5;124mCookies are not valid\u001b[39m\u001b[38;5;124m\"\u001b[39m)\n",
      "File \u001b[0;32m~/anaconda3/lib/python3.11/site-packages/facebook_scraper/facebook_scraper.py:1003\u001b[0m, in \u001b[0;36mFacebookScraper.is_logged_in\u001b[0;34m(self)\u001b[0m\n\u001b[1;32m   1001\u001b[0m \u001b[38;5;28;01mdef\u001b[39;00m \u001b[38;5;21mis_logged_in\u001b[39m(\u001b[38;5;28mself\u001b[39m) \u001b[38;5;241m-\u001b[39m\u001b[38;5;241m>\u001b[39m \u001b[38;5;28mbool\u001b[39m:\n\u001b[1;32m   1002\u001b[0m     \u001b[38;5;28;01mtry\u001b[39;00m:\n\u001b[0;32m-> 1003\u001b[0m         \u001b[38;5;28mself\u001b[39m\u001b[38;5;241m.\u001b[39mget(\u001b[38;5;124m'\u001b[39m\u001b[38;5;124mhttps://facebook.com/settings\u001b[39m\u001b[38;5;124m'\u001b[39m)\n\u001b[1;32m   1004\u001b[0m         \u001b[38;5;28;01mreturn\u001b[39;00m \u001b[38;5;28;01mTrue\u001b[39;00m\n\u001b[1;32m   1005\u001b[0m     \u001b[38;5;28;01mexcept\u001b[39;00m exceptions\u001b[38;5;241m.\u001b[39mLoginRequired:\n",
      "File \u001b[0;32m~/anaconda3/lib/python3.11/site-packages/facebook_scraper/facebook_scraper.py:871\u001b[0m, in \u001b[0;36mFacebookScraper.get\u001b[0;34m(self, url, **kwargs)\u001b[0m\n\u001b[1;32m    869\u001b[0m     response \u001b[38;5;241m=\u001b[39m \u001b[38;5;28mself\u001b[39m\u001b[38;5;241m.\u001b[39msession\u001b[38;5;241m.\u001b[39mpost(url\u001b[38;5;241m=\u001b[39murl, \u001b[38;5;241m*\u001b[39m\u001b[38;5;241m*\u001b[39mkwargs)\n\u001b[1;32m    870\u001b[0m \u001b[38;5;28;01melse\u001b[39;00m:\n\u001b[0;32m--> 871\u001b[0m     response \u001b[38;5;241m=\u001b[39m \u001b[38;5;28mself\u001b[39m\u001b[38;5;241m.\u001b[39msession\u001b[38;5;241m.\u001b[39mget(url\u001b[38;5;241m=\u001b[39murl, \u001b[38;5;241m*\u001b[39m\u001b[38;5;241m*\u001b[39m\u001b[38;5;28mself\u001b[39m\u001b[38;5;241m.\u001b[39mrequests_kwargs, \u001b[38;5;241m*\u001b[39m\u001b[38;5;241m*\u001b[39mkwargs)\n\u001b[1;32m    872\u001b[0m DEBUG \u001b[38;5;241m=\u001b[39m \u001b[38;5;28;01mFalse\u001b[39;00m\n\u001b[1;32m    873\u001b[0m \u001b[38;5;28;01mif\u001b[39;00m DEBUG:\n",
      "File \u001b[0;32m~/anaconda3/lib/python3.11/site-packages/requests/sessions.py:602\u001b[0m, in \u001b[0;36mSession.get\u001b[0;34m(self, url, **kwargs)\u001b[0m\n\u001b[1;32m    594\u001b[0m \u001b[38;5;250m\u001b[39m\u001b[38;5;124mr\u001b[39m\u001b[38;5;124;03m\"\"\"Sends a GET request. Returns :class:`Response` object.\u001b[39;00m\n\u001b[1;32m    595\u001b[0m \n\u001b[1;32m    596\u001b[0m \u001b[38;5;124;03m:param url: URL for the new :class:`Request` object.\u001b[39;00m\n\u001b[1;32m    597\u001b[0m \u001b[38;5;124;03m:param \\*\\*kwargs: Optional arguments that ``request`` takes.\u001b[39;00m\n\u001b[1;32m    598\u001b[0m \u001b[38;5;124;03m:rtype: requests.Response\u001b[39;00m\n\u001b[1;32m    599\u001b[0m \u001b[38;5;124;03m\"\"\"\u001b[39;00m\n\u001b[1;32m    601\u001b[0m kwargs\u001b[38;5;241m.\u001b[39msetdefault(\u001b[38;5;124m\"\u001b[39m\u001b[38;5;124mallow_redirects\u001b[39m\u001b[38;5;124m\"\u001b[39m, \u001b[38;5;28;01mTrue\u001b[39;00m)\n\u001b[0;32m--> 602\u001b[0m \u001b[38;5;28;01mreturn\u001b[39;00m \u001b[38;5;28mself\u001b[39m\u001b[38;5;241m.\u001b[39mrequest(\u001b[38;5;124m\"\u001b[39m\u001b[38;5;124mGET\u001b[39m\u001b[38;5;124m\"\u001b[39m, url, \u001b[38;5;241m*\u001b[39m\u001b[38;5;241m*\u001b[39mkwargs)\n",
      "File \u001b[0;32m~/anaconda3/lib/python3.11/site-packages/requests/sessions.py:589\u001b[0m, in \u001b[0;36mSession.request\u001b[0;34m(self, method, url, params, data, headers, cookies, files, auth, timeout, allow_redirects, proxies, hooks, stream, verify, cert, json)\u001b[0m\n\u001b[1;32m    584\u001b[0m send_kwargs \u001b[38;5;241m=\u001b[39m {\n\u001b[1;32m    585\u001b[0m     \u001b[38;5;124m\"\u001b[39m\u001b[38;5;124mtimeout\u001b[39m\u001b[38;5;124m\"\u001b[39m: timeout,\n\u001b[1;32m    586\u001b[0m     \u001b[38;5;124m\"\u001b[39m\u001b[38;5;124mallow_redirects\u001b[39m\u001b[38;5;124m\"\u001b[39m: allow_redirects,\n\u001b[1;32m    587\u001b[0m }\n\u001b[1;32m    588\u001b[0m send_kwargs\u001b[38;5;241m.\u001b[39mupdate(settings)\n\u001b[0;32m--> 589\u001b[0m resp \u001b[38;5;241m=\u001b[39m \u001b[38;5;28mself\u001b[39m\u001b[38;5;241m.\u001b[39msend(prep, \u001b[38;5;241m*\u001b[39m\u001b[38;5;241m*\u001b[39msend_kwargs)\n\u001b[1;32m    591\u001b[0m \u001b[38;5;28;01mreturn\u001b[39;00m resp\n",
      "File \u001b[0;32m~/anaconda3/lib/python3.11/site-packages/requests/sessions.py:703\u001b[0m, in \u001b[0;36mSession.send\u001b[0;34m(self, request, **kwargs)\u001b[0m\n\u001b[1;32m    700\u001b[0m start \u001b[38;5;241m=\u001b[39m preferred_clock()\n\u001b[1;32m    702\u001b[0m \u001b[38;5;66;03m# Send the request\u001b[39;00m\n\u001b[0;32m--> 703\u001b[0m r \u001b[38;5;241m=\u001b[39m adapter\u001b[38;5;241m.\u001b[39msend(request, \u001b[38;5;241m*\u001b[39m\u001b[38;5;241m*\u001b[39mkwargs)\n\u001b[1;32m    705\u001b[0m \u001b[38;5;66;03m# Total elapsed time of the request (approximately)\u001b[39;00m\n\u001b[1;32m    706\u001b[0m elapsed \u001b[38;5;241m=\u001b[39m preferred_clock() \u001b[38;5;241m-\u001b[39m start\n",
      "File \u001b[0;32m~/anaconda3/lib/python3.11/site-packages/requests/adapters.py:532\u001b[0m, in \u001b[0;36mHTTPAdapter.send\u001b[0;34m(self, request, stream, timeout, verify, cert, proxies)\u001b[0m\n\u001b[1;32m    530\u001b[0m     \u001b[38;5;28;01mraise\u001b[39;00m SSLError(e, request\u001b[38;5;241m=\u001b[39mrequest)\n\u001b[1;32m    531\u001b[0m \u001b[38;5;28;01melif\u001b[39;00m \u001b[38;5;28misinstance\u001b[39m(e, ReadTimeoutError):\n\u001b[0;32m--> 532\u001b[0m     \u001b[38;5;28;01mraise\u001b[39;00m ReadTimeout(e, request\u001b[38;5;241m=\u001b[39mrequest)\n\u001b[1;32m    533\u001b[0m \u001b[38;5;28;01melif\u001b[39;00m \u001b[38;5;28misinstance\u001b[39m(e, _InvalidHeader):\n\u001b[1;32m    534\u001b[0m     \u001b[38;5;28;01mraise\u001b[39;00m InvalidHeader(e, request\u001b[38;5;241m=\u001b[39mrequest)\n",
      "\u001b[0;31mReadTimeout\u001b[0m: HTTPSConnectionPool(host='facebook.com', port=443): Read timed out. (read timeout=30)"
     ]
    }
   ],
   "source": [
    "import random\n",
    "\n",
    "def handle_pagination_url(url):\n",
    "        global start_url\n",
    "        start_url = url\n",
    "\n",
    "FANPAGE_LINK = FANPAGE_LINKS[1]\n",
    "\n",
    "    \n",
    "\n",
    "while True:\n",
    "    try:\n",
    "        for post in get_posts(FANPAGE_LINK,\n",
    "                    options = {  \"comments\" : True,\"reactions\": True, \"allow_extra_requests\": True ,\n",
    "                               \"post_per_page\" : 100,\"reactors\" :False},\n",
    "                    extra_info=True, pages=PAGES_NUMBER, cookies=COOKIE_PATH,page_limit=None, start_url=start_url, request_url_callback=handle_pagination_url ) :\n",
    "            post[\"start_url\"] = start_url\n",
    "\n",
    "            post_link[FANPAGE_LINK].append(post)\n",
    "            print(len(post_link[FANPAGE_LINK]))\n",
    "            time.sleep(random.randrange(2, 10, 1));\n",
    "        print(\"All done\")\n",
    "        break;\n",
    "\n",
    "    except exceptions.TemporarilyBanned:\n",
    "        print(\"Temporarily banned, sleeping for 10m\")\n",
    "        time.sleep(1000)"
   ]
  },
  {
   "cell_type": "code",
   "execution_count": 25,
   "id": "9038d929-520c-4142-948f-27d1c8d0f319",
   "metadata": {
    "tags": []
   },
   "outputs": [
    {
     "data": {
      "text/plain": [
       "253"
      ]
     },
     "execution_count": 25,
     "metadata": {},
     "output_type": "execute_result"
    }
   ],
   "source": [
    "len(post_link[FANPAGE_LINKS[1]])"
   ]
  },
  {
   "cell_type": "markdown",
   "id": "c40d5f3d-cf98-48c6-a8bd-897d49d6d52d",
   "metadata": {},
   "source": [
    "<h3>Crawling Popeyes</h3>"
   ]
  },
  {
   "cell_type": "code",
   "execution_count": 31,
   "id": "441a0d7b-b40b-4017-8ad5-e1678dcbd09a",
   "metadata": {
    "tags": []
   },
   "outputs": [
    {
     "name": "stdout",
     "output_type": "stream",
     "text": [
      "127\n",
      "128\n"
     ]
    },
    {
     "name": "stderr",
     "output_type": "stream",
     "text": [
      "/Users/nguyenhuynh/anaconda3/lib/python3.11/site-packages/facebook_scraper/facebook_scraper.py:908: UserWarning: Facebook served mbasic/noscript content unexpectedly on https://m.facebook.com/ufi/reaction/profile/browser/fetch/?ft_ent_identifier=pfbid02Lkz4oxsSA8dGnBCc3XCn6yaqW3BHfqyNgNaRnokVeXnfpLBWLvXQq1Ra5DpYvmL5l&limit=50&shown_ids=100062950992550%2C100055347480149%2C100051919568463%2C100046229007229%2C100045628009651%2C100041559543563%2C100039523511688%2C100035485174652%2C100033187413494%2C100031038163062%2C100030666102170%2C100028996895399%2C100026613375264%2C100025934331329%2C100022356919903%2C100017633026701%2C100013207681225%2C100011710289466%2C100009901547460%2C100009656657377%2C100008691519126%2C100007576784603%2C100007345084946%2C100007064974538%2C100007050871941%2C100006088749549%2C100005519463021%2C100004542253855%2C100004508500312%2C100004460590428%2C100004385439628%2C100004058461760%2C100004055792015%2C100003510404181%2C100003328029031%2C100003250879840%2C100002840078426%2C100001786602012%2C100001481160712%2C100000240849103%2C1441607244&total_count=43&paipv=0&eav=AfYPkMIwJ4yKV0xjOW4Q19B3kYDaGGKInBjfdrqJvb-PEHBQv6E_0jZkx4F2d8l22SI\n",
      "  warnings.warn(\n"
     ]
    },
    {
     "name": "stdout",
     "output_type": "stream",
     "text": [
      "129\n",
      "130\n",
      "131\n",
      "132\n",
      "133\n",
      "134\n",
      "135\n",
      "136\n",
      "137\n",
      "138\n",
      "139\n"
     ]
    },
    {
     "name": "stderr",
     "output_type": "stream",
     "text": [
      "/Users/nguyenhuynh/anaconda3/lib/python3.11/site-packages/facebook_scraper/facebook_scraper.py:908: UserWarning: Facebook served mbasic/noscript content unexpectedly on https://m.facebook.com/ufi/reaction/profile/browser/fetch/?ft_ent_identifier=3882612341785555&limit=50&reaction_type=4&reaction_id=115940658764963&shown_ids&total_count=1&paipv=0&eav=AfbfTVLWinnkW0Fqpn_0UlO9JDWm6F6_I16mAIGynWZxFSGOKFZFiLGMFDG8MxPVuUA\n",
      "  warnings.warn(\n"
     ]
    },
    {
     "name": "stdout",
     "output_type": "stream",
     "text": [
      "140\n",
      "141\n",
      "142\n",
      "143\n",
      "144\n"
     ]
    },
    {
     "name": "stderr",
     "output_type": "stream",
     "text": [
      "/Users/nguyenhuynh/anaconda3/lib/python3.11/site-packages/facebook_scraper/facebook_scraper.py:908: UserWarning: Facebook served mbasic/noscript content unexpectedly on https://m.facebook.com/ufi/reaction/profile/browser/fetch/?ft_ent_identifier=pfbid0VxhJ3dACXt84fUMnrNjXs1fwt2icKR8vwzwCfrV8xrZML5VhxtgMmCebtJHrhuxLl&limit=50&shown_ids=100004446901554%2C100004317032500%2C100004248220288%2C100003597622944%2C100003583379115%2C100003328029031%2C100003231023874%2C100003185375000%2C100003115758635%2C100002990660813%2C100001617099095%2C100001527263681%2C100001307023010%2C100000240849103%2C1441607244%2C100014801862960%2C100014532907734%2C100014130971864%2C100014124455954%2C100014061492311%2C100013616887151%2C100013300621668%2C100013297874449%2C100013235894242%2C100013207681225%2C100012450630292%2C100011342005001%2C100011111900512%2C100010916130971%2C100010194228515%2C100009864702186%2C100009481325548%2C100008737834932%2C100008728337708%2C100008691519126%2C100008437924110%2C100008188752591%2C100008127903458%2C100008044234905%2C100007981000154%2C100007725164090%2C100007515160729%2C100007387515816%2C100007281366010%2C100007129956431%2C100006763833789%2C100006618366833%2C100006573403746%2C100006247246572%2C100006088749549%2C100005983084714%2C100005758029271%2C100005612738205%2C100005519463021%2C100005432763411%2C100005432015446%2C100005383636833%2C100005289673782%2C100004774657048%2C100004511793273%2C100004503641217%2C100079173655154%2C100072125641406%2C100065212787616%2C100064893822746%2C100063801863909%2C100061077008722%2C100057261817681%2C100054913111314%2C100051493869011%2C100051213857054%2C100046672423538%2C100044239149587%2C100044183501254%2C100043554724669%2C100042490538862%2C100041501798317%2C100041442731548%2C100041357385451%2C100041312382751%2C100040606063845%2C100039523511688%2C100038887243841%2C100038681226570%2C100038635490029%2C100038140599695%2C100036845108241%2C100036688066681%2C100036679764307%2C100036592656290%2C100035262455935%2C100035126178811%2C100034234836419%2C100033931354531%2C100033533945483%2C100029896522802%2C100029575153743%2C100028129037729%2C100027926749310%2C100026775916290%2C100026613375264%2C100023718484717%2C100022065142626%2C100022022929724%2C100018974763988%2C100018382331844%2C100017855827670%2C100017633026701%2C100015345307885&total_count=113&paipv=0&eav=AfaOX7lgLVrvavx6n0-We5LSXxqBt43C7SP7Le8TgheB1rYklv3jg7RL7ZyjtfvtZoo\n",
      "  warnings.warn(\n"
     ]
    },
    {
     "name": "stdout",
     "output_type": "stream",
     "text": [
      "145\n",
      "146\n",
      "147\n",
      "148\n",
      "149\n"
     ]
    },
    {
     "name": "stderr",
     "output_type": "stream",
     "text": [
      "/Users/nguyenhuynh/anaconda3/lib/python3.11/site-packages/facebook_scraper/facebook_scraper.py:908: UserWarning: Facebook served mbasic/noscript content unexpectedly on https://m.facebook.com/ufi/reaction/profile/browser/fetch/?ft_ent_identifier=pfbid07ivXgt6kef3nV44x6zsJirFwHtjGagSdSyirGjmGroFVWFMnXH1R1mXChTSu9sLSl&limit=50&shown_ids=100006746413979%2C100006583299159%2C100006451885884%2C100006406509227%2C100006363914562%2C100006088749549%2C100005983084714%2C100005915463579%2C100005668780289%2C100005519463021%2C100005432763411%2C100004876847941%2C100004638974118%2C100004511793273%2C100004508500312%2C100004117089261%2C100004022439563%2C100003328029031%2C100003250879840%2C100003115758635%2C100002844911370%2C100002738149499%2C100001481160712%2C100000240849103%2C1586034429%2C1441607244%2C100064099483549%2C100057828782677%2C100056569508142%2C100054913111314%2C100052683257169%2C100051704593758%2C100050498348765%2C100044183501254%2C100041929069248%2C100040606063845%2C100039523511688%2C100036679764307%2C100036599744926%2C100036169322177%2C100034234836419%2C100033898601544%2C100033631719370%2C100033327706712%2C100029881658597%2C100026613375264%2C100026100915876%2C100025936210452%2C100024581677898%2C100024229427834%2C100024147122459%2C100021988969546%2C100021808755816%2C100021798344196%2C100021673872090%2C100017633026701%2C100014801288434%2C100014200232548%2C100013436919546%2C100013297874449%2C100013207681225%2C100012794944503%2C100012474739232%2C100012432166129%2C100011371715874%2C100011063463170%2C100010205580497%2C100009351453901%2C100009137599701%2C100008729950634%2C100008691519126%2C100007579261020%2C100007387515816%2C100006894812503&total_count=76&paipv=0&eav=Afb1WZuASGRkoOURh2fVPW7MFZV41r0qgMh_qMDRlMglgzM7rKBrYxlpTboK0_a_9OE\n",
      "  warnings.warn(\n"
     ]
    },
    {
     "name": "stdout",
     "output_type": "stream",
     "text": [
      "150\n",
      "151\n"
     ]
    },
    {
     "name": "stderr",
     "output_type": "stream",
     "text": [
      "Traceback (most recent call last):\n",
      "  File \"/Users/nguyenhuynh/anaconda3/lib/python3.11/site-packages/facebook_scraper/utils.py\", line 279, in safe_consume\n",
      "    for item in generator:\n",
      "  File \"/Users/nguyenhuynh/anaconda3/lib/python3.11/site-packages/facebook_scraper/extractors.py\", line 1210, in extract_comments_full\n",
      "    result = self.extract_comment_with_replies(comment)\n",
      "             ^^^^^^^^^^^^^^^^^^^^^^^^^^^^^^^^^^^^^^^^^^\n",
      "  File \"/Users/nguyenhuynh/anaconda3/lib/python3.11/site-packages/facebook_scraper/extractors.py\", line 1169, in extract_comment_with_replies\n",
      "    result = self.parse_comment(comment)\n",
      "             ^^^^^^^^^^^^^^^^^^^^^^^^^^^\n",
      "  File \"/Users/nguyenhuynh/anaconda3/lib/python3.11/site-packages/facebook_scraper/extractors.py\", line 1086, in parse_comment\n",
      "    reactions = self.extract_reactions(comment_id, force_parse_HTML=True)\n",
      "                ^^^^^^^^^^^^^^^^^^^^^^^^^^^^^^^^^^^^^^^^^^^^^^^^^^^^^^^^^\n",
      "  File \"/Users/nguyenhuynh/anaconda3/lib/python3.11/site-packages/facebook_scraper/extractors.py\", line 817, in extract_reactions\n",
      "    response = self.request(reaction_url)\n",
      "               ^^^^^^^^^^^^^^^^^^^^^^^^^^\n",
      "  File \"/Users/nguyenhuynh/anaconda3/lib/python3.11/site-packages/facebook_scraper/facebook_scraper.py\", line 929, in get\n",
      "    raise exceptions.TemporarilyBanned(title.text)\n",
      "facebook_scraper.exceptions.TemporarilyBanned: You’re Temporarily Blocked\n",
      "Traceback (most recent call last):\n",
      "  File \"/Users/nguyenhuynh/anaconda3/lib/python3.11/site-packages/facebook_scraper/utils.py\", line 279, in safe_consume\n",
      "    for item in generator:\n",
      "  File \"/Users/nguyenhuynh/anaconda3/lib/python3.11/site-packages/facebook_scraper/extractors.py\", line 1161, in extract_comment_replies\n",
      "    yield self.parse_comment(reply)\n",
      "          ^^^^^^^^^^^^^^^^^^^^^^^^^\n",
      "  File \"/Users/nguyenhuynh/anaconda3/lib/python3.11/site-packages/facebook_scraper/extractors.py\", line 1086, in parse_comment\n",
      "    reactions = self.extract_reactions(comment_id, force_parse_HTML=True)\n",
      "                ^^^^^^^^^^^^^^^^^^^^^^^^^^^^^^^^^^^^^^^^^^^^^^^^^^^^^^^^^\n",
      "  File \"/Users/nguyenhuynh/anaconda3/lib/python3.11/site-packages/facebook_scraper/extractors.py\", line 817, in extract_reactions\n",
      "    response = self.request(reaction_url)\n",
      "               ^^^^^^^^^^^^^^^^^^^^^^^^^^\n",
      "  File \"/Users/nguyenhuynh/anaconda3/lib/python3.11/site-packages/facebook_scraper/facebook_scraper.py\", line 929, in get\n",
      "    raise exceptions.TemporarilyBanned(title.text)\n",
      "facebook_scraper.exceptions.TemporarilyBanned: You’re Temporarily Blocked\n"
     ]
    },
    {
     "name": "stdout",
     "output_type": "stream",
     "text": [
      "152\n"
     ]
    },
    {
     "name": "stderr",
     "output_type": "stream",
     "text": [
      "Traceback (most recent call last):\n",
      "  File \"/Users/nguyenhuynh/anaconda3/lib/python3.11/site-packages/facebook_scraper/utils.py\", line 279, in safe_consume\n",
      "    for item in generator:\n",
      "  File \"/Users/nguyenhuynh/anaconda3/lib/python3.11/site-packages/facebook_scraper/extractors.py\", line 1210, in extract_comments_full\n",
      "    result = self.extract_comment_with_replies(comment)\n",
      "             ^^^^^^^^^^^^^^^^^^^^^^^^^^^^^^^^^^^^^^^^^^\n",
      "  File \"/Users/nguyenhuynh/anaconda3/lib/python3.11/site-packages/facebook_scraper/extractors.py\", line 1169, in extract_comment_with_replies\n",
      "    result = self.parse_comment(comment)\n",
      "             ^^^^^^^^^^^^^^^^^^^^^^^^^^^\n",
      "  File \"/Users/nguyenhuynh/anaconda3/lib/python3.11/site-packages/facebook_scraper/extractors.py\", line 1086, in parse_comment\n",
      "    reactions = self.extract_reactions(comment_id, force_parse_HTML=True)\n",
      "                ^^^^^^^^^^^^^^^^^^^^^^^^^^^^^^^^^^^^^^^^^^^^^^^^^^^^^^^^^\n",
      "  File \"/Users/nguyenhuynh/anaconda3/lib/python3.11/site-packages/facebook_scraper/extractors.py\", line 817, in extract_reactions\n",
      "    response = self.request(reaction_url)\n",
      "               ^^^^^^^^^^^^^^^^^^^^^^^^^^\n",
      "  File \"/Users/nguyenhuynh/anaconda3/lib/python3.11/site-packages/facebook_scraper/facebook_scraper.py\", line 929, in get\n",
      "    raise exceptions.TemporarilyBanned(title.text)\n",
      "facebook_scraper.exceptions.TemporarilyBanned: You’re Temporarily Blocked\n"
     ]
    },
    {
     "name": "stdout",
     "output_type": "stream",
     "text": [
      "153\n"
     ]
    },
    {
     "name": "stderr",
     "output_type": "stream",
     "text": [
      "Traceback (most recent call last):\n",
      "  File \"/Users/nguyenhuynh/anaconda3/lib/python3.11/site-packages/facebook_scraper/utils.py\", line 279, in safe_consume\n",
      "    for item in generator:\n",
      "  File \"/Users/nguyenhuynh/anaconda3/lib/python3.11/site-packages/facebook_scraper/extractors.py\", line 1210, in extract_comments_full\n",
      "    result = self.extract_comment_with_replies(comment)\n",
      "             ^^^^^^^^^^^^^^^^^^^^^^^^^^^^^^^^^^^^^^^^^^\n",
      "  File \"/Users/nguyenhuynh/anaconda3/lib/python3.11/site-packages/facebook_scraper/extractors.py\", line 1169, in extract_comment_with_replies\n",
      "    result = self.parse_comment(comment)\n",
      "             ^^^^^^^^^^^^^^^^^^^^^^^^^^^\n",
      "  File \"/Users/nguyenhuynh/anaconda3/lib/python3.11/site-packages/facebook_scraper/extractors.py\", line 1086, in parse_comment\n",
      "    reactions = self.extract_reactions(comment_id, force_parse_HTML=True)\n",
      "                ^^^^^^^^^^^^^^^^^^^^^^^^^^^^^^^^^^^^^^^^^^^^^^^^^^^^^^^^^\n",
      "  File \"/Users/nguyenhuynh/anaconda3/lib/python3.11/site-packages/facebook_scraper/extractors.py\", line 817, in extract_reactions\n",
      "    response = self.request(reaction_url)\n",
      "               ^^^^^^^^^^^^^^^^^^^^^^^^^^\n",
      "  File \"/Users/nguyenhuynh/anaconda3/lib/python3.11/site-packages/facebook_scraper/facebook_scraper.py\", line 929, in get\n",
      "    raise exceptions.TemporarilyBanned(title.text)\n",
      "facebook_scraper.exceptions.TemporarilyBanned: You’re Temporarily Blocked\n"
     ]
    },
    {
     "name": "stdout",
     "output_type": "stream",
     "text": [
      "154\n"
     ]
    },
    {
     "name": "stderr",
     "output_type": "stream",
     "text": [
      "Traceback (most recent call last):\n",
      "  File \"/Users/nguyenhuynh/anaconda3/lib/python3.11/site-packages/facebook_scraper/utils.py\", line 279, in safe_consume\n",
      "    for item in generator:\n",
      "  File \"/Users/nguyenhuynh/anaconda3/lib/python3.11/site-packages/facebook_scraper/extractors.py\", line 1210, in extract_comments_full\n",
      "    result = self.extract_comment_with_replies(comment)\n",
      "             ^^^^^^^^^^^^^^^^^^^^^^^^^^^^^^^^^^^^^^^^^^\n",
      "  File \"/Users/nguyenhuynh/anaconda3/lib/python3.11/site-packages/facebook_scraper/extractors.py\", line 1169, in extract_comment_with_replies\n",
      "    result = self.parse_comment(comment)\n",
      "             ^^^^^^^^^^^^^^^^^^^^^^^^^^^\n",
      "  File \"/Users/nguyenhuynh/anaconda3/lib/python3.11/site-packages/facebook_scraper/extractors.py\", line 1086, in parse_comment\n",
      "    reactions = self.extract_reactions(comment_id, force_parse_HTML=True)\n",
      "                ^^^^^^^^^^^^^^^^^^^^^^^^^^^^^^^^^^^^^^^^^^^^^^^^^^^^^^^^^\n",
      "  File \"/Users/nguyenhuynh/anaconda3/lib/python3.11/site-packages/facebook_scraper/extractors.py\", line 817, in extract_reactions\n",
      "    response = self.request(reaction_url)\n",
      "               ^^^^^^^^^^^^^^^^^^^^^^^^^^\n",
      "  File \"/Users/nguyenhuynh/anaconda3/lib/python3.11/site-packages/facebook_scraper/facebook_scraper.py\", line 929, in get\n",
      "    raise exceptions.TemporarilyBanned(title.text)\n",
      "facebook_scraper.exceptions.TemporarilyBanned: You’re Temporarily Blocked\n"
     ]
    },
    {
     "name": "stdout",
     "output_type": "stream",
     "text": [
      "155\n"
     ]
    },
    {
     "name": "stderr",
     "output_type": "stream",
     "text": [
      "Traceback (most recent call last):\n",
      "  File \"/Users/nguyenhuynh/anaconda3/lib/python3.11/site-packages/facebook_scraper/utils.py\", line 279, in safe_consume\n",
      "    for item in generator:\n",
      "  File \"/Users/nguyenhuynh/anaconda3/lib/python3.11/site-packages/facebook_scraper/extractors.py\", line 1210, in extract_comments_full\n",
      "    result = self.extract_comment_with_replies(comment)\n",
      "             ^^^^^^^^^^^^^^^^^^^^^^^^^^^^^^^^^^^^^^^^^^\n",
      "  File \"/Users/nguyenhuynh/anaconda3/lib/python3.11/site-packages/facebook_scraper/extractors.py\", line 1169, in extract_comment_with_replies\n",
      "    result = self.parse_comment(comment)\n",
      "             ^^^^^^^^^^^^^^^^^^^^^^^^^^^\n",
      "  File \"/Users/nguyenhuynh/anaconda3/lib/python3.11/site-packages/facebook_scraper/extractors.py\", line 1086, in parse_comment\n",
      "    reactions = self.extract_reactions(comment_id, force_parse_HTML=True)\n",
      "                ^^^^^^^^^^^^^^^^^^^^^^^^^^^^^^^^^^^^^^^^^^^^^^^^^^^^^^^^^\n",
      "  File \"/Users/nguyenhuynh/anaconda3/lib/python3.11/site-packages/facebook_scraper/extractors.py\", line 817, in extract_reactions\n",
      "    response = self.request(reaction_url)\n",
      "               ^^^^^^^^^^^^^^^^^^^^^^^^^^\n",
      "  File \"/Users/nguyenhuynh/anaconda3/lib/python3.11/site-packages/facebook_scraper/facebook_scraper.py\", line 929, in get\n",
      "    raise exceptions.TemporarilyBanned(title.text)\n",
      "facebook_scraper.exceptions.TemporarilyBanned: You’re Temporarily Blocked\n"
     ]
    },
    {
     "name": "stdout",
     "output_type": "stream",
     "text": [
      "156\n"
     ]
    },
    {
     "name": "stderr",
     "output_type": "stream",
     "text": [
      "Traceback (most recent call last):\n",
      "  File \"/Users/nguyenhuynh/anaconda3/lib/python3.11/site-packages/facebook_scraper/utils.py\", line 279, in safe_consume\n",
      "    for item in generator:\n",
      "  File \"/Users/nguyenhuynh/anaconda3/lib/python3.11/site-packages/facebook_scraper/extractors.py\", line 1210, in extract_comments_full\n",
      "    result = self.extract_comment_with_replies(comment)\n",
      "             ^^^^^^^^^^^^^^^^^^^^^^^^^^^^^^^^^^^^^^^^^^\n",
      "  File \"/Users/nguyenhuynh/anaconda3/lib/python3.11/site-packages/facebook_scraper/extractors.py\", line 1169, in extract_comment_with_replies\n",
      "    result = self.parse_comment(comment)\n",
      "             ^^^^^^^^^^^^^^^^^^^^^^^^^^^\n",
      "  File \"/Users/nguyenhuynh/anaconda3/lib/python3.11/site-packages/facebook_scraper/extractors.py\", line 1086, in parse_comment\n",
      "    reactions = self.extract_reactions(comment_id, force_parse_HTML=True)\n",
      "                ^^^^^^^^^^^^^^^^^^^^^^^^^^^^^^^^^^^^^^^^^^^^^^^^^^^^^^^^^\n",
      "  File \"/Users/nguyenhuynh/anaconda3/lib/python3.11/site-packages/facebook_scraper/extractors.py\", line 817, in extract_reactions\n",
      "    response = self.request(reaction_url)\n",
      "               ^^^^^^^^^^^^^^^^^^^^^^^^^^\n",
      "  File \"/Users/nguyenhuynh/anaconda3/lib/python3.11/site-packages/facebook_scraper/facebook_scraper.py\", line 929, in get\n",
      "    raise exceptions.TemporarilyBanned(title.text)\n",
      "facebook_scraper.exceptions.TemporarilyBanned: You’re Temporarily Blocked\n"
     ]
    },
    {
     "name": "stdout",
     "output_type": "stream",
     "text": [
      "157\n"
     ]
    },
    {
     "name": "stderr",
     "output_type": "stream",
     "text": [
      "Traceback (most recent call last):\n",
      "  File \"/Users/nguyenhuynh/anaconda3/lib/python3.11/site-packages/facebook_scraper/utils.py\", line 279, in safe_consume\n",
      "    for item in generator:\n",
      "  File \"/Users/nguyenhuynh/anaconda3/lib/python3.11/site-packages/facebook_scraper/extractors.py\", line 1210, in extract_comments_full\n",
      "    result = self.extract_comment_with_replies(comment)\n",
      "             ^^^^^^^^^^^^^^^^^^^^^^^^^^^^^^^^^^^^^^^^^^\n",
      "  File \"/Users/nguyenhuynh/anaconda3/lib/python3.11/site-packages/facebook_scraper/extractors.py\", line 1169, in extract_comment_with_replies\n",
      "    result = self.parse_comment(comment)\n",
      "             ^^^^^^^^^^^^^^^^^^^^^^^^^^^\n",
      "  File \"/Users/nguyenhuynh/anaconda3/lib/python3.11/site-packages/facebook_scraper/extractors.py\", line 1086, in parse_comment\n",
      "    reactions = self.extract_reactions(comment_id, force_parse_HTML=True)\n",
      "                ^^^^^^^^^^^^^^^^^^^^^^^^^^^^^^^^^^^^^^^^^^^^^^^^^^^^^^^^^\n",
      "  File \"/Users/nguyenhuynh/anaconda3/lib/python3.11/site-packages/facebook_scraper/extractors.py\", line 817, in extract_reactions\n",
      "    response = self.request(reaction_url)\n",
      "               ^^^^^^^^^^^^^^^^^^^^^^^^^^\n",
      "  File \"/Users/nguyenhuynh/anaconda3/lib/python3.11/site-packages/facebook_scraper/facebook_scraper.py\", line 929, in get\n",
      "    raise exceptions.TemporarilyBanned(title.text)\n",
      "facebook_scraper.exceptions.TemporarilyBanned: You’re Temporarily Blocked\n"
     ]
    },
    {
     "name": "stdout",
     "output_type": "stream",
     "text": [
      "158\n"
     ]
    },
    {
     "name": "stderr",
     "output_type": "stream",
     "text": [
      "Traceback (most recent call last):\n",
      "  File \"/Users/nguyenhuynh/anaconda3/lib/python3.11/site-packages/facebook_scraper/utils.py\", line 279, in safe_consume\n",
      "    for item in generator:\n",
      "  File \"/Users/nguyenhuynh/anaconda3/lib/python3.11/site-packages/facebook_scraper/extractors.py\", line 1210, in extract_comments_full\n",
      "    result = self.extract_comment_with_replies(comment)\n",
      "             ^^^^^^^^^^^^^^^^^^^^^^^^^^^^^^^^^^^^^^^^^^\n",
      "  File \"/Users/nguyenhuynh/anaconda3/lib/python3.11/site-packages/facebook_scraper/extractors.py\", line 1169, in extract_comment_with_replies\n",
      "    result = self.parse_comment(comment)\n",
      "             ^^^^^^^^^^^^^^^^^^^^^^^^^^^\n",
      "  File \"/Users/nguyenhuynh/anaconda3/lib/python3.11/site-packages/facebook_scraper/extractors.py\", line 1086, in parse_comment\n",
      "    reactions = self.extract_reactions(comment_id, force_parse_HTML=True)\n",
      "                ^^^^^^^^^^^^^^^^^^^^^^^^^^^^^^^^^^^^^^^^^^^^^^^^^^^^^^^^^\n",
      "  File \"/Users/nguyenhuynh/anaconda3/lib/python3.11/site-packages/facebook_scraper/extractors.py\", line 817, in extract_reactions\n",
      "    response = self.request(reaction_url)\n",
      "               ^^^^^^^^^^^^^^^^^^^^^^^^^^\n",
      "  File \"/Users/nguyenhuynh/anaconda3/lib/python3.11/site-packages/facebook_scraper/facebook_scraper.py\", line 929, in get\n",
      "    raise exceptions.TemporarilyBanned(title.text)\n",
      "facebook_scraper.exceptions.TemporarilyBanned: You’re Temporarily Blocked\n"
     ]
    },
    {
     "name": "stdout",
     "output_type": "stream",
     "text": [
      "159\n"
     ]
    },
    {
     "name": "stderr",
     "output_type": "stream",
     "text": [
      "Traceback (most recent call last):\n",
      "  File \"/Users/nguyenhuynh/anaconda3/lib/python3.11/site-packages/facebook_scraper/utils.py\", line 279, in safe_consume\n",
      "    for item in generator:\n",
      "  File \"/Users/nguyenhuynh/anaconda3/lib/python3.11/site-packages/facebook_scraper/extractors.py\", line 1210, in extract_comments_full\n",
      "    result = self.extract_comment_with_replies(comment)\n",
      "             ^^^^^^^^^^^^^^^^^^^^^^^^^^^^^^^^^^^^^^^^^^\n",
      "  File \"/Users/nguyenhuynh/anaconda3/lib/python3.11/site-packages/facebook_scraper/extractors.py\", line 1169, in extract_comment_with_replies\n",
      "    result = self.parse_comment(comment)\n",
      "             ^^^^^^^^^^^^^^^^^^^^^^^^^^^\n",
      "  File \"/Users/nguyenhuynh/anaconda3/lib/python3.11/site-packages/facebook_scraper/extractors.py\", line 1086, in parse_comment\n",
      "    reactions = self.extract_reactions(comment_id, force_parse_HTML=True)\n",
      "                ^^^^^^^^^^^^^^^^^^^^^^^^^^^^^^^^^^^^^^^^^^^^^^^^^^^^^^^^^\n",
      "  File \"/Users/nguyenhuynh/anaconda3/lib/python3.11/site-packages/facebook_scraper/extractors.py\", line 817, in extract_reactions\n",
      "    response = self.request(reaction_url)\n",
      "               ^^^^^^^^^^^^^^^^^^^^^^^^^^\n",
      "  File \"/Users/nguyenhuynh/anaconda3/lib/python3.11/site-packages/facebook_scraper/facebook_scraper.py\", line 929, in get\n",
      "    raise exceptions.TemporarilyBanned(title.text)\n",
      "facebook_scraper.exceptions.TemporarilyBanned: You’re Temporarily Blocked\n"
     ]
    },
    {
     "name": "stdout",
     "output_type": "stream",
     "text": [
      "160\n"
     ]
    },
    {
     "name": "stderr",
     "output_type": "stream",
     "text": [
      "Traceback (most recent call last):\n",
      "  File \"/Users/nguyenhuynh/anaconda3/lib/python3.11/site-packages/facebook_scraper/utils.py\", line 279, in safe_consume\n",
      "    for item in generator:\n",
      "  File \"/Users/nguyenhuynh/anaconda3/lib/python3.11/site-packages/facebook_scraper/extractors.py\", line 1210, in extract_comments_full\n",
      "    result = self.extract_comment_with_replies(comment)\n",
      "             ^^^^^^^^^^^^^^^^^^^^^^^^^^^^^^^^^^^^^^^^^^\n",
      "  File \"/Users/nguyenhuynh/anaconda3/lib/python3.11/site-packages/facebook_scraper/extractors.py\", line 1169, in extract_comment_with_replies\n",
      "    result = self.parse_comment(comment)\n",
      "             ^^^^^^^^^^^^^^^^^^^^^^^^^^^\n",
      "  File \"/Users/nguyenhuynh/anaconda3/lib/python3.11/site-packages/facebook_scraper/extractors.py\", line 1086, in parse_comment\n",
      "    reactions = self.extract_reactions(comment_id, force_parse_HTML=True)\n",
      "                ^^^^^^^^^^^^^^^^^^^^^^^^^^^^^^^^^^^^^^^^^^^^^^^^^^^^^^^^^\n",
      "  File \"/Users/nguyenhuynh/anaconda3/lib/python3.11/site-packages/facebook_scraper/extractors.py\", line 817, in extract_reactions\n",
      "    response = self.request(reaction_url)\n",
      "               ^^^^^^^^^^^^^^^^^^^^^^^^^^\n",
      "  File \"/Users/nguyenhuynh/anaconda3/lib/python3.11/site-packages/facebook_scraper/facebook_scraper.py\", line 929, in get\n",
      "    raise exceptions.TemporarilyBanned(title.text)\n",
      "facebook_scraper.exceptions.TemporarilyBanned: You’re Temporarily Blocked\n",
      "Traceback (most recent call last):\n",
      "  File \"/Users/nguyenhuynh/anaconda3/lib/python3.11/site-packages/facebook_scraper/utils.py\", line 279, in safe_consume\n",
      "    for item in generator:\n",
      "  File \"/Users/nguyenhuynh/anaconda3/lib/python3.11/site-packages/facebook_scraper/extractors.py\", line 1161, in extract_comment_replies\n",
      "    yield self.parse_comment(reply)\n",
      "          ^^^^^^^^^^^^^^^^^^^^^^^^^\n",
      "  File \"/Users/nguyenhuynh/anaconda3/lib/python3.11/site-packages/facebook_scraper/extractors.py\", line 1086, in parse_comment\n",
      "    reactions = self.extract_reactions(comment_id, force_parse_HTML=True)\n",
      "                ^^^^^^^^^^^^^^^^^^^^^^^^^^^^^^^^^^^^^^^^^^^^^^^^^^^^^^^^^\n",
      "  File \"/Users/nguyenhuynh/anaconda3/lib/python3.11/site-packages/facebook_scraper/extractors.py\", line 817, in extract_reactions\n",
      "    response = self.request(reaction_url)\n",
      "               ^^^^^^^^^^^^^^^^^^^^^^^^^^\n",
      "  File \"/Users/nguyenhuynh/anaconda3/lib/python3.11/site-packages/facebook_scraper/facebook_scraper.py\", line 929, in get\n",
      "    raise exceptions.TemporarilyBanned(title.text)\n",
      "facebook_scraper.exceptions.TemporarilyBanned: You’re Temporarily Blocked\n",
      "Traceback (most recent call last):\n",
      "  File \"/Users/nguyenhuynh/anaconda3/lib/python3.11/site-packages/facebook_scraper/utils.py\", line 279, in safe_consume\n",
      "    for item in generator:\n",
      "  File \"/Users/nguyenhuynh/anaconda3/lib/python3.11/site-packages/facebook_scraper/extractors.py\", line 1161, in extract_comment_replies\n",
      "    yield self.parse_comment(reply)\n",
      "          ^^^^^^^^^^^^^^^^^^^^^^^^^\n",
      "  File \"/Users/nguyenhuynh/anaconda3/lib/python3.11/site-packages/facebook_scraper/extractors.py\", line 1086, in parse_comment\n",
      "    reactions = self.extract_reactions(comment_id, force_parse_HTML=True)\n",
      "                ^^^^^^^^^^^^^^^^^^^^^^^^^^^^^^^^^^^^^^^^^^^^^^^^^^^^^^^^^\n",
      "  File \"/Users/nguyenhuynh/anaconda3/lib/python3.11/site-packages/facebook_scraper/extractors.py\", line 817, in extract_reactions\n",
      "    response = self.request(reaction_url)\n",
      "               ^^^^^^^^^^^^^^^^^^^^^^^^^^\n",
      "  File \"/Users/nguyenhuynh/anaconda3/lib/python3.11/site-packages/facebook_scraper/facebook_scraper.py\", line 929, in get\n",
      "    raise exceptions.TemporarilyBanned(title.text)\n",
      "facebook_scraper.exceptions.TemporarilyBanned: You’re Temporarily Blocked\n"
     ]
    },
    {
     "name": "stdout",
     "output_type": "stream",
     "text": [
      "161\n"
     ]
    },
    {
     "name": "stderr",
     "output_type": "stream",
     "text": [
      "Traceback (most recent call last):\n",
      "  File \"/Users/nguyenhuynh/anaconda3/lib/python3.11/site-packages/facebook_scraper/utils.py\", line 279, in safe_consume\n",
      "    for item in generator:\n",
      "  File \"/Users/nguyenhuynh/anaconda3/lib/python3.11/site-packages/facebook_scraper/extractors.py\", line 1210, in extract_comments_full\n",
      "    result = self.extract_comment_with_replies(comment)\n",
      "             ^^^^^^^^^^^^^^^^^^^^^^^^^^^^^^^^^^^^^^^^^^\n",
      "  File \"/Users/nguyenhuynh/anaconda3/lib/python3.11/site-packages/facebook_scraper/extractors.py\", line 1169, in extract_comment_with_replies\n",
      "    result = self.parse_comment(comment)\n",
      "             ^^^^^^^^^^^^^^^^^^^^^^^^^^^\n",
      "  File \"/Users/nguyenhuynh/anaconda3/lib/python3.11/site-packages/facebook_scraper/extractors.py\", line 1086, in parse_comment\n",
      "    reactions = self.extract_reactions(comment_id, force_parse_HTML=True)\n",
      "                ^^^^^^^^^^^^^^^^^^^^^^^^^^^^^^^^^^^^^^^^^^^^^^^^^^^^^^^^^\n",
      "  File \"/Users/nguyenhuynh/anaconda3/lib/python3.11/site-packages/facebook_scraper/extractors.py\", line 817, in extract_reactions\n",
      "    response = self.request(reaction_url)\n",
      "               ^^^^^^^^^^^^^^^^^^^^^^^^^^\n",
      "  File \"/Users/nguyenhuynh/anaconda3/lib/python3.11/site-packages/facebook_scraper/facebook_scraper.py\", line 929, in get\n",
      "    raise exceptions.TemporarilyBanned(title.text)\n",
      "facebook_scraper.exceptions.TemporarilyBanned: You’re Temporarily Blocked\n"
     ]
    },
    {
     "name": "stdout",
     "output_type": "stream",
     "text": [
      "162\n"
     ]
    },
    {
     "name": "stderr",
     "output_type": "stream",
     "text": [
      "Traceback (most recent call last):\n",
      "  File \"/Users/nguyenhuynh/anaconda3/lib/python3.11/site-packages/facebook_scraper/utils.py\", line 279, in safe_consume\n",
      "    for item in generator:\n",
      "  File \"/Users/nguyenhuynh/anaconda3/lib/python3.11/site-packages/facebook_scraper/extractors.py\", line 1210, in extract_comments_full\n",
      "    result = self.extract_comment_with_replies(comment)\n",
      "             ^^^^^^^^^^^^^^^^^^^^^^^^^^^^^^^^^^^^^^^^^^\n",
      "  File \"/Users/nguyenhuynh/anaconda3/lib/python3.11/site-packages/facebook_scraper/extractors.py\", line 1169, in extract_comment_with_replies\n",
      "    result = self.parse_comment(comment)\n",
      "             ^^^^^^^^^^^^^^^^^^^^^^^^^^^\n",
      "  File \"/Users/nguyenhuynh/anaconda3/lib/python3.11/site-packages/facebook_scraper/extractors.py\", line 1086, in parse_comment\n",
      "    reactions = self.extract_reactions(comment_id, force_parse_HTML=True)\n",
      "                ^^^^^^^^^^^^^^^^^^^^^^^^^^^^^^^^^^^^^^^^^^^^^^^^^^^^^^^^^\n",
      "  File \"/Users/nguyenhuynh/anaconda3/lib/python3.11/site-packages/facebook_scraper/extractors.py\", line 817, in extract_reactions\n",
      "    response = self.request(reaction_url)\n",
      "               ^^^^^^^^^^^^^^^^^^^^^^^^^^\n",
      "  File \"/Users/nguyenhuynh/anaconda3/lib/python3.11/site-packages/facebook_scraper/facebook_scraper.py\", line 929, in get\n",
      "    raise exceptions.TemporarilyBanned(title.text)\n",
      "facebook_scraper.exceptions.TemporarilyBanned: You’re Temporarily Blocked\n"
     ]
    },
    {
     "name": "stdout",
     "output_type": "stream",
     "text": [
      "163\n"
     ]
    },
    {
     "name": "stderr",
     "output_type": "stream",
     "text": [
      "Traceback (most recent call last):\n",
      "  File \"/Users/nguyenhuynh/anaconda3/lib/python3.11/site-packages/facebook_scraper/utils.py\", line 279, in safe_consume\n",
      "    for item in generator:\n",
      "  File \"/Users/nguyenhuynh/anaconda3/lib/python3.11/site-packages/facebook_scraper/extractors.py\", line 1210, in extract_comments_full\n",
      "    result = self.extract_comment_with_replies(comment)\n",
      "             ^^^^^^^^^^^^^^^^^^^^^^^^^^^^^^^^^^^^^^^^^^\n",
      "  File \"/Users/nguyenhuynh/anaconda3/lib/python3.11/site-packages/facebook_scraper/extractors.py\", line 1169, in extract_comment_with_replies\n",
      "    result = self.parse_comment(comment)\n",
      "             ^^^^^^^^^^^^^^^^^^^^^^^^^^^\n",
      "  File \"/Users/nguyenhuynh/anaconda3/lib/python3.11/site-packages/facebook_scraper/extractors.py\", line 1086, in parse_comment\n",
      "    reactions = self.extract_reactions(comment_id, force_parse_HTML=True)\n",
      "                ^^^^^^^^^^^^^^^^^^^^^^^^^^^^^^^^^^^^^^^^^^^^^^^^^^^^^^^^^\n",
      "  File \"/Users/nguyenhuynh/anaconda3/lib/python3.11/site-packages/facebook_scraper/extractors.py\", line 817, in extract_reactions\n",
      "    response = self.request(reaction_url)\n",
      "               ^^^^^^^^^^^^^^^^^^^^^^^^^^\n",
      "  File \"/Users/nguyenhuynh/anaconda3/lib/python3.11/site-packages/facebook_scraper/facebook_scraper.py\", line 929, in get\n",
      "    raise exceptions.TemporarilyBanned(title.text)\n",
      "facebook_scraper.exceptions.TemporarilyBanned: You’re Temporarily Blocked\n",
      "Traceback (most recent call last):\n",
      "  File \"/Users/nguyenhuynh/anaconda3/lib/python3.11/site-packages/facebook_scraper/utils.py\", line 279, in safe_consume\n",
      "    for item in generator:\n",
      "  File \"/Users/nguyenhuynh/anaconda3/lib/python3.11/site-packages/facebook_scraper/extractors.py\", line 1161, in extract_comment_replies\n",
      "    yield self.parse_comment(reply)\n",
      "          ^^^^^^^^^^^^^^^^^^^^^^^^^\n",
      "  File \"/Users/nguyenhuynh/anaconda3/lib/python3.11/site-packages/facebook_scraper/extractors.py\", line 1086, in parse_comment\n",
      "    reactions = self.extract_reactions(comment_id, force_parse_HTML=True)\n",
      "                ^^^^^^^^^^^^^^^^^^^^^^^^^^^^^^^^^^^^^^^^^^^^^^^^^^^^^^^^^\n",
      "  File \"/Users/nguyenhuynh/anaconda3/lib/python3.11/site-packages/facebook_scraper/extractors.py\", line 817, in extract_reactions\n",
      "    response = self.request(reaction_url)\n",
      "               ^^^^^^^^^^^^^^^^^^^^^^^^^^\n",
      "  File \"/Users/nguyenhuynh/anaconda3/lib/python3.11/site-packages/facebook_scraper/facebook_scraper.py\", line 929, in get\n",
      "    raise exceptions.TemporarilyBanned(title.text)\n",
      "facebook_scraper.exceptions.TemporarilyBanned: You’re Temporarily Blocked\n"
     ]
    },
    {
     "name": "stdout",
     "output_type": "stream",
     "text": [
      "164\n"
     ]
    },
    {
     "name": "stderr",
     "output_type": "stream",
     "text": [
      "/Users/nguyenhuynh/anaconda3/lib/python3.11/site-packages/facebook_scraper/facebook_scraper.py:908: UserWarning: Facebook served mbasic/noscript content unexpectedly on https://m.facebook.com/ufi/reaction/profile/browser/fetch/?ft_ent_identifier=pfbid0s1mokRDCo1gJA6o7iumDMh28hToS3Z5229EB6FA7TAFQmeCsFLWLd451dLndfemGl&limit=50&shown_ids=100004659900072%2C100004395816944%2C100004385439628%2C100004103964215%2C100004031888196%2C100004022439563%2C100003866338841%2C100003648935604%2C100003510404181%2C100003328029031%2C100003115758635%2C100003106743799%2C100002990660813%2C1441607244%2C1236530705%2C1066501734%2C100063974132502%2C100059733771624%2C100057379774178%2C100056937074546%2C100056569508142%2C100047434033838%2C100045628009651%2C100042031566633%2C100041604422352%2C100041559543563%2C100039523511688%2C100037023913058%2C100036918972840%2C100036679764307%2C100035262455935%2C100034429304279%2C100030168170527%2C100028410570567%2C100028191397223%2C100026745871858%2C100026613375264%2C100025934331329%2C100025754170108%2C100024909060374%2C100024581677898%2C100024125176027%2C100017633026701%2C100015754953526%2C100014966250744%2C100014168170223%2C100013363470032%2C100013207681225%2C100013101912051%2C100012432166129%2C100012326449682%2C100010092363474%2C100009639999491%2C100008691519126%2C100008219230768%2C100008085571858%2C100007906592650%2C100007579261020%2C100007520887427%2C100006655650258%2C100005929181166%2C100005519463021%2C100005432763411%2C100005407020153&total_count=67&paipv=0&eav=AfZegNuyq8Uwkj-sIRV14sDD_bP8Ijz4MnKKXUtwVLn2m4ey8BQv8h9N_OEwiZF9Nco\n",
      "  warnings.warn(\n"
     ]
    },
    {
     "name": "stdout",
     "output_type": "stream",
     "text": [
      "165\n",
      "166\n",
      "167\n",
      "168\n"
     ]
    },
    {
     "name": "stderr",
     "output_type": "stream",
     "text": [
      "/Users/nguyenhuynh/anaconda3/lib/python3.11/site-packages/facebook_scraper/facebook_scraper.py:908: UserWarning: Facebook served mbasic/noscript content unexpectedly on https://m.facebook.com/ufi/reaction/profile/browser/fetch/?ft_ent_identifier=pfbid0MoAGCrdR8BjgDqZAq5zrfM3XtrwNjMtKVvrBt7ZkHoXrEgLX8famM4c2Z5oVn1E4l&limit=50&shown_ids=100004119708307%2C100003807291547%2C100003198361499%2C100003154672929%2C100003115758635%2C100002990660813%2C100002976167322%2C1441607244%2C100059733771624%2C100058626216285%2C100056569508142%2C100054044349376%2C100053198316158%2C100049781231045%2C100045628009651%2C100045116737365%2C100039523511688%2C100036679764307%2C100034679483612%2C100032878804727%2C100026940883610%2C100026613375264%2C100025947679966%2C100025934331329%2C100025285192449%2C100024581677898%2C100023730708360%2C100022487318456%2C100018382331844%2C100017633026701%2C100016566344684%2C100013363470032%2C100013207681225%2C100012432166129%2C100012073240117%2C100011884864458%2C100011235697932%2C100010645216226%2C100010561743666%2C100010375141827%2C100009639999491%2C100009085737422%2C100008785302931%2C100008728337708%2C100008691519126%2C100008286103360%2C100007387515816%2C100006892841541%2C100006741197149%2C100006655650258%2C100005519463021%2C100005292431707%2C100004847913120%2C100004638974118%2C100004571226682%2C100004508500312%2C100004385439628&total_count=58&paipv=0&eav=AfbdUy7RiIkgXpCbCP7WQlPij1sxDj2Y2C0zNZIqHP0NEKytdRucDKOiRe4hEXOujGc\n",
      "  warnings.warn(\n"
     ]
    },
    {
     "name": "stdout",
     "output_type": "stream",
     "text": [
      "169\n",
      "170\n",
      "171\n",
      "172\n",
      "173\n",
      "174\n"
     ]
    },
    {
     "name": "stderr",
     "output_type": "stream",
     "text": [
      "/Users/nguyenhuynh/anaconda3/lib/python3.11/site-packages/facebook_scraper/facebook_scraper.py:908: UserWarning: Facebook served mbasic/noscript content unexpectedly on https://m.facebook.com/ufi/reaction/profile/browser/fetch/?ft_ent_identifier=pfbid02Cmc68otbFGH8NRgjCtsH6pnCdVoy5LHveykXPRUn5xPZSfcJr9jVXSmowDbb1W6kl&limit=50&shown_ids=100005965665426%2C100005519463021%2C100005432763411%2C100005407020153%2C100005299862657%2C100005107235659%2C100004847913120%2C100004508500312%2C100004385439628%2C100004175881894%2C100004022439563%2C100003880512574%2C100003676481319%2C100003250879840%2C100003198361499%2C100003115758635%2C100002840078426%2C100001711258941%2C1441607244%2C100058659819681%2C100058626216285%2C100056446272935%2C100054566180909%2C100050793136119%2C100049667375262%2C100048005433654%2C100045628009651%2C100043845046666%2C100041604422352%2C100041559543563%2C100039523511688%2C100038612895857%2C100036679764307%2C100035262455935%2C100033533945483%2C100028110127923%2C100026896921011%2C100026613375264%2C100025947679966%2C100024581677898%2C100024514934194%2C100022775206535%2C100022021793868%2C100017633026701%2C100015087979408%2C100014757341459%2C100013565254146%2C100013483686295%2C100013207681225%2C100013019198368%2C100012432166129%2C100012065109554%2C100011979434438%2C100011063463170%2C100010746366107%2C100008691519126%2C100008691045487%2C100007463853554%2C100007428933626%2C100007387515816%2C100007159653521%2C100007110936255%2C100006892841541%2C100006478105769%2C100006300280775%2C100006167104752%2C100006048426373&total_count=70&paipv=0&eav=AfYc2v-QalXd75KwRAm94skH3X9IRqyhFG4rNl9xzzSrHEcxKdVGf3XNoZDfK7p0N64\n",
      "  warnings.warn(\n",
      "/Users/nguyenhuynh/anaconda3/lib/python3.11/site-packages/facebook_scraper/facebook_scraper.py:908: UserWarning: Facebook served mbasic/noscript content unexpectedly on https://m.facebook.com/ufi/reaction/profile/browser/fetch/?ft_ent_identifier=3727737160606408&limit=50&reaction_type=1&reaction_id=1635855486666999&shown_ids&total_count=1&paipv=0&eav=AfbKJNSBtXpYt3sxc-ZzyNxdaf5O1DRPrpYXWohCl6aaOsGkpTAh1r_XUp6br5izMCc\n",
      "  warnings.warn(\n"
     ]
    },
    {
     "name": "stdout",
     "output_type": "stream",
     "text": [
      "175\n"
     ]
    },
    {
     "name": "stderr",
     "output_type": "stream",
     "text": [
      "/Users/nguyenhuynh/anaconda3/lib/python3.11/site-packages/facebook_scraper/facebook_scraper.py:908: UserWarning: Facebook served mbasic/noscript content unexpectedly on https://m.facebook.com/ufi/reaction/profile/browser/fetch/?ft_ent_identifier=3724833760896748&limit=50&shown_ids=100007723154691%2C100007520887427%2C100006963349388%2C100006892841541%2C100006574242425%2C100006155620023%2C100005822291621%2C100005519463021%2C100005299862657%2C100005181104338%2C100005023298499%2C100004908094980%2C100004523970201%2C100004253971508%2C100004022439563%2C100003510404181%2C100003250879840%2C100003168649899%2C100003115758635%2C100002871031605%2C100001742855177%2C100001641696258%2C100001528132778%2C100000763126049%2C100000346270068%2C100000003665251%2C1441607244%2C100058626216285%2C100058153458191%2C100058109545008%2C100054595824187%2C100054566180909%2C100050793136119%2C100049667375262%2C100048465933377%2C100048137199574%2C100045628009651%2C100044395371674%2C100043845046666%2C100042489169583%2C100041604422352%2C100040538410908%2C100039523511688%2C100036679764307%2C100035736252734%2C100035423017558%2C100035262455935%2C100035087748661%2C100034594482751%2C100028792490170%2C100028349461693%2C100027921668762%2C100026940883610%2C100026613375264%2C100026082720146%2C100025630217309%2C100017633026701%2C100016566344684%2C100015929348458%2C100014240919695%2C100013483686295%2C100013207681225%2C100012432166129%2C100011946574041%2C100011698084150%2C100011254149227%2C100011063463170%2C100010645216226%2C100009758190006%2C100009493809096%2C100008691519126%2C100008414448909%2C100008030178403%2C100007810152729&total_count=79&paipv=0&eav=AfZoFfODG2EsWZZmMjLiT-R-MqsbEcm6JTFI9gRzZsQWtvx_iWdi_exeEGUC1jAFyMQ\n",
      "  warnings.warn(\n"
     ]
    },
    {
     "name": "stdout",
     "output_type": "stream",
     "text": [
      "176\n"
     ]
    },
    {
     "name": "stderr",
     "output_type": "stream",
     "text": [
      "/Users/nguyenhuynh/anaconda3/lib/python3.11/site-packages/facebook_scraper/facebook_scraper.py:908: UserWarning: Facebook served mbasic/noscript content unexpectedly on https://m.facebook.com/ufi/reaction/profile/browser/fetch/?ft_ent_identifier=pfbid036Gq7Rco4nABzPSSmS9nfK5GTccENN9ADfzQrB1CMtpjk3y4atcqK2rhTWVdEimuSl&limit=50&shown_ids=100003198361499%2C100003115758635%2C100002858632121%2C100002840078426%2C100000763126049%2C100000145144872%2C1801976930%2C1783421752%2C1441607244%2C100010746366107%2C100010432117498%2C100009906335599%2C100009305870970%2C100008691519126%2C100008342926525%2C100008076074736%2C100008006133848%2C100007862736534%2C100007723154691%2C100007562403533%2C100007520887427%2C100007159653521%2C100007032078031%2C100006981706266%2C100006892841541%2C100006833432663%2C100006546759677%2C100006451885884%2C100006406509227%2C100006364543725%2C100006167104752%2C100006117091598%2C100006048426373%2C100005956291872%2C100005519463021%2C100005299862657%2C100005181104338%2C100005028905850%2C100005023298499%2C100004876847941%2C100004677163265%2C100004508500312%2C100004462274073%2C100004385439628%2C100004253971508%2C100004251044176%2C100004186442011%2C100004117089261%2C100004022439563%2C100003676481319%2C100003587774541%2C100003528880299%2C100003510404181%2C100003328029031%2C100003250879840%2C100058626216285%2C100057175523357%2C100056086886717%2C100054913111314%2C100054566180909%2C100050833685416%2C100050793136119%2C100049667375262%2C100045628009651%2C100041559543563%2C100039523511688%2C100038783288110%2C100036679764307%2C100036150938668%2C100035262455935%2C100034991447329%2C100027921668762%2C100027373282668%2C100027020922894%2C100026977830278%2C100026613375264%2C100024581677898%2C100024125176027%2C100023644635522%2C100023604570272%2C100022775206535%2C100022683286309%2C100022021793868%2C100018460555792%2C100017714171869%2C100017633026701%2C100016082887429%2C100015721874751%2C100015551897420%2C100015087979408%2C100014757341459%2C100013807204915%2C100013483686295%2C100013373744057%2C100013363470032%2C100013207681225%2C100013202686125%2C100012794944503%2C100012432166129%2C100012065109554%2C100011254149227%2C100011063463170&total_count=106&paipv=0&eav=AfbQM96pteoidxwoUxyZRxjtt5d2lLGdxaWBRcbPBmcGRmWppcU9VtGSq714Iluedtc\n",
      "  warnings.warn(\n",
      "/Users/nguyenhuynh/anaconda3/lib/python3.11/site-packages/facebook_scraper/facebook_scraper.py:908: UserWarning: Facebook served mbasic/noscript content unexpectedly on https://m.facebook.com/ufi/reaction/profile/browser/fetch/?ft_ent_identifier=3724563117590479&limit=50&reaction_type=1&reaction_id=1635855486666999&shown_ids&total_count=1&paipv=0&eav=Afax2ByowpYNWN0HTB7bjDXpmPNpDt1RR9Y5r-hjwPuVQDHjqjL_bQm_2LOEOV9g6y8\n",
      "  warnings.warn(\n",
      "/Users/nguyenhuynh/anaconda3/lib/python3.11/site-packages/facebook_scraper/facebook_scraper.py:908: UserWarning: Facebook served mbasic/noscript content unexpectedly on https://m.facebook.com/ufi/reaction/profile/browser/fetch/?ft_ent_identifier=3724397934273664&limit=50&reaction_type=1&reaction_id=1635855486666999&shown_ids&total_count=1&paipv=0&eav=AfYBfxq2YXIIFaXDBVYY0elm56fC2L2LIYRotemnIbaeopM1vdUc4jZtqa3vPITT7ME\n",
      "  warnings.warn(\n",
      "/Users/nguyenhuynh/anaconda3/lib/python3.11/site-packages/facebook_scraper/facebook_scraper.py:908: UserWarning: Facebook served mbasic/noscript content unexpectedly on https://m.facebook.com/ufi/reaction/profile/browser/fetch/?ft_ent_identifier=3724388647607926&limit=50&reaction_type=1&reaction_id=1635855486666999&shown_ids&total_count=1&paipv=0&eav=AfZfYE5xTgLMvteysP2mIoMuVft5AkXQX9lZ1lM4jqlSNzFhUMQ7N9gOQCDXzmDa1pg\n",
      "  warnings.warn(\n",
      "/Users/nguyenhuynh/anaconda3/lib/python3.11/site-packages/facebook_scraper/facebook_scraper.py:908: UserWarning: Facebook served mbasic/noscript content unexpectedly on https://m.facebook.com/ufi/reaction/profile/browser/fetch/?ft_ent_identifier=3720130094700448&limit=50&reaction_type=1&reaction_id=1635855486666999&shown_ids=100012464284747&total_count=2&paipv=0&eav=AfZ7NyrShUk9YZs0BKrc1kENmvXTCl5JDUqlOO74ONt7wJznoZ3A_yfXBTnJ5MIBjQM\n",
      "  warnings.warn(\n"
     ]
    },
    {
     "name": "stdout",
     "output_type": "stream",
     "text": [
      "177\n",
      "178\n"
     ]
    },
    {
     "name": "stderr",
     "output_type": "stream",
     "text": [
      "/Users/nguyenhuynh/anaconda3/lib/python3.11/site-packages/facebook_scraper/facebook_scraper.py:908: UserWarning: Facebook served mbasic/noscript content unexpectedly on https://m.facebook.com/ufi/reaction/profile/browser/fetch/?ft_ent_identifier=pfbid0251mboFn18bGx7WKuP4XK6aG26CaU4AUn5fRYdpSvH5c67UoiBydUFVx8RRB34iHRl&limit=50&shown_ids=100007070598327%2C100006995596018%2C100006892841541%2C100006574242425%2C100006546759677%2C100006167104752%2C100006048426373%2C100005956291872%2C100005519463021%2C100005473632108%2C100005407020153%2C100005299862657%2C100005279079237%2C100005023298499%2C100004911992530%2C100004908094980%2C100004706412746%2C100004508500312%2C100004385439628%2C100004253971508%2C100004119708307%2C100004022439563%2C100003951566262%2C100003865392219%2C100003528880299%2C100003510404181%2C100003115758635%2C100002840078426%2C100002295455561%2C100001481160712%2C100000763126049%2C1783421752%2C1441607244%2C1237092237%2C100058626216285%2C100056886649903%2C100051385929262%2C100050793136119%2C100048137199574%2C100045628009651%2C100041559543563%2C100039523511688%2C100036679764307%2C100035262455935%2C100033533945483%2C100032306198048%2C100032139002292%2C100030755510868%2C100028996895399%2C100028605335036%2C100027020922894%2C100025874702193%2C100024581677898%2C100024125176027%2C100022775206535%2C100016566344684%2C100014211608769%2C100014082212456%2C100014055790043%2C100013207681225%2C100013202686125%2C100012895728892%2C100012432166129%2C100012374569454%2C100012073240117%2C100011698084150%2C100011418440722%2C100011063463170%2C100010645216226%2C100009906335599%2C100009864702186%2C100009554012189%2C100009437126280%2C100008785302931%2C100008691519126%2C100008691045487%2C100008030178403%2C100007448701209%2C100007408750983%2C100007387515816%2C100007159653521&total_count=85&paipv=0&eav=AfaRKvuCSjLusHJEurYgSfPIVDGzq_3zX2ohPXcHUT7SExHqsCUV0sJwfUOr6L9zBM0\n",
      "  warnings.warn(\n"
     ]
    },
    {
     "name": "stdout",
     "output_type": "stream",
     "text": [
      "179\n",
      "180\n"
     ]
    },
    {
     "name": "stderr",
     "output_type": "stream",
     "text": [
      "/Users/nguyenhuynh/anaconda3/lib/python3.11/site-packages/facebook_scraper/facebook_scraper.py:908: UserWarning: Facebook served mbasic/noscript content unexpectedly on https://m.facebook.com/ufi/reaction/profile/browser/fetch/?ft_ent_identifier=pfbid0o7bjPvo3ysWHiwm5qST4FEW1wexvXY1YVmtRM4X5xEeiSNAG5e6vQR4UdBZXpj3cl&limit=50&shown_ids=100010340867349%2C100010158630586%2C100009962328954%2C100009864702186%2C100009278306250%2C100009188532309%2C100009080567565%2C100009033030028%2C100008728337708%2C100008691519126%2C100007562403533%2C100007387515816%2C100007260093249%2C100007064974538%2C100006892841541%2C100006442906028%2C100006167104752%2C100005519463021%2C100005490613551%2C100005299862657%2C100005181104338%2C100005023298499%2C100004876847941%2C100004659900072%2C100004620482165%2C100004571226682%2C100004407549535%2C100004402926322%2C100004385439628%2C100004253971508%2C100004117089261%2C100004103964215%2C100004067268367%2C100004056643288%2C100004031888196%2C100004022439563%2C100003627245126%2C100003528880299%2C100003510404181%2C100003328029031%2C100003315639338%2C100003168649899%2C100003115758635%2C100002515865450%2C100000361738616%2C1441607244%2C1066501734%2C100059322918909%2C100058626216285%2C100058442216971%2C100054566180909%2C100054185296056%2C100053198316158%2C100052239214123%2C100050793136119%2C100049667375262%2C100045628009651%2C100043739893772%2C100042255676198%2C100041604422352%2C100041559543563%2C100039523511688%2C100037891212931%2C100036717482443%2C100036679764307%2C100035262455935%2C100034459041239%2C100030222198747%2C100028792490170%2C100027921668762%2C100027413922669%2C100027044902433%2C100026613375264%2C100025006973469%2C100024581677898%2C100024125176027%2C100023730708360%2C100023493827514%2C100022775206535%2C100021952387616%2C100018974763988%2C100018006518541%2C100017633026701%2C100016566344684%2C100015510184387%2C100015087979408%2C100014764957452%2C100014757341459%2C100013483686295%2C100013207681225%2C100012879613153%2C100012432166129%2C100012065109554%2C100011063463170&total_count=97&paipv=0&eav=AfYsVD-uy9NQW3bEBLDJ-QJLb6OYcik-ubj0RPIhlD38AWU7nm45BCic9hYiHa7rAb0\n",
      "  warnings.warn(\n"
     ]
    },
    {
     "name": "stdout",
     "output_type": "stream",
     "text": [
      "181\n",
      "182\n",
      "183\n",
      "184\n",
      "185\n",
      "186\n",
      "187\n",
      "188\n",
      "189\n",
      "190\n",
      "191\n",
      "192\n",
      "193\n",
      "194\n",
      "195\n",
      "196\n",
      "197\n",
      "198\n",
      "199\n",
      "200\n",
      "201\n",
      "202\n",
      "203\n",
      "204\n",
      "205\n",
      "206\n",
      "All done\n"
     ]
    }
   ],
   "source": [
    "import random\n",
    "\n",
    "def handle_pagination_url(url):\n",
    "        global start_url\n",
    "        start_url = url\n",
    "\n",
    "FANPAGE_LINK = FANPAGE_LINKS[2]\n",
    "\n",
    "    \n",
    "\n",
    "while True:\n",
    "    try:\n",
    "        for post in get_posts(FANPAGE_LINK,\n",
    "                    options = {  \"comments\" : True,\"reactions\": True, \"allow_extra_requests\": True ,\n",
    "                               \"post_per_page\" : 100,\"reactors\" :False},\n",
    "                    extra_info=True, pages=PAGES_NUMBER, cookies=COOKIE_PATH,page_limit=None, start_url=start_url, request_url_callback=handle_pagination_url ) :\n",
    "            post[\"start_url\"] = start_url\n",
    "\n",
    "            post_link[FANPAGE_LINK].append(post)\n",
    "            print(len(post_link[FANPAGE_LINK]))\n",
    "            time.sleep(random.randrange(2, 10, 1));\n",
    "        print(\"All done\")\n",
    "        break;\n",
    "\n",
    "    except exceptions.TemporarilyBanned:\n",
    "        print(\"Temporarily banned, sleeping for 10m\")\n",
    "        time.sleep(1000)"
   ]
  },
  {
   "cell_type": "code",
   "execution_count": 33,
   "id": "19a02b68-8093-4c6d-95b3-108d1ee0b30e",
   "metadata": {
    "tags": []
   },
   "outputs": [
    {
     "data": {
      "text/plain": [
       "206"
      ]
     },
     "execution_count": 33,
     "metadata": {},
     "output_type": "execute_result"
    }
   ],
   "source": [
    "len(post_link[FANPAGE_LINKS[2]])"
   ]
  },
  {
   "cell_type": "markdown",
   "id": "be0e9e6c-f26b-4d7e-a2f8-53100be83203",
   "metadata": {},
   "source": [
    "<h3>Crawling KFC</h3>"
   ]
  },
  {
   "cell_type": "code",
   "execution_count": 67,
   "id": "3e688ce8-a2a4-4303-bc8e-1e8e7bac3a88",
   "metadata": {
    "tags": []
   },
   "outputs": [],
   "source": [
    "start_url = None\n",
    "post_link[FANPAGE_LINKS[3]] = []"
   ]
  },
  {
   "cell_type": "code",
   "execution_count": 72,
   "id": "5aa2c40e-3e58-4283-92fc-25936a4a32f6",
   "metadata": {
    "tags": []
   },
   "outputs": [
    {
     "name": "stdout",
     "output_type": "stream",
     "text": [
      "163\n",
      "164\n",
      "165\n",
      "166\n",
      "167\n",
      "168\n",
      "169\n",
      "170\n",
      "171\n",
      "172\n",
      "173\n",
      "174\n",
      "175\n",
      "176\n",
      "177\n",
      "178\n",
      "179\n",
      "180\n",
      "181\n"
     ]
    },
    {
     "name": "stderr",
     "output_type": "stream",
     "text": [
      "Traceback (most recent call last):\n",
      "  File \"/Users/nguyenhuynh/anaconda3/lib/python3.11/site-packages/facebook_scraper/utils.py\", line 279, in safe_consume\n",
      "    for item in generator:\n",
      "  File \"/Users/nguyenhuynh/anaconda3/lib/python3.11/site-packages/facebook_scraper/extractors.py\", line 1140, in extract_comment_replies\n",
      "    for action in data['payload']['actions']:\n",
      "                  ~~~~~~~~~~~~~~~^^^^^^^^^^^\n",
      "TypeError: 'NoneType' object is not subscriptable\n",
      "Traceback (most recent call last):\n",
      "  File \"/Users/nguyenhuynh/anaconda3/lib/python3.11/site-packages/facebook_scraper/utils.py\", line 279, in safe_consume\n",
      "    for item in generator:\n",
      "  File \"/Users/nguyenhuynh/anaconda3/lib/python3.11/site-packages/facebook_scraper/extractors.py\", line 1140, in extract_comment_replies\n",
      "    for action in data['payload']['actions']:\n",
      "                  ~~~~~~~~~~~~~~~^^^^^^^^^^^\n",
      "TypeError: 'NoneType' object is not subscriptable\n"
     ]
    },
    {
     "name": "stdout",
     "output_type": "stream",
     "text": [
      "182\n",
      "183\n",
      "184\n",
      "185\n",
      "186\n",
      "187\n",
      "188\n",
      "189\n",
      "190\n",
      "191\n",
      "192\n",
      "193\n",
      "194\n",
      "195\n",
      "196\n",
      "197\n",
      "198\n"
     ]
    },
    {
     "name": "stderr",
     "output_type": "stream",
     "text": [
      "Traceback (most recent call last):\n",
      "  File \"/Users/nguyenhuynh/anaconda3/lib/python3.11/site-packages/facebook_scraper/utils.py\", line 279, in safe_consume\n",
      "    for item in generator:\n",
      "  File \"/Users/nguyenhuynh/anaconda3/lib/python3.11/site-packages/facebook_scraper/extractors.py\", line 1140, in extract_comment_replies\n",
      "    for action in data['payload']['actions']:\n",
      "                  ~~~~~~~~~~~~~~~^^^^^^^^^^^\n",
      "TypeError: 'NoneType' object is not subscriptable\n",
      "Traceback (most recent call last):\n",
      "  File \"/Users/nguyenhuynh/anaconda3/lib/python3.11/site-packages/facebook_scraper/utils.py\", line 279, in safe_consume\n",
      "    for item in generator:\n",
      "  File \"/Users/nguyenhuynh/anaconda3/lib/python3.11/site-packages/facebook_scraper/extractors.py\", line 1140, in extract_comment_replies\n",
      "    for action in data['payload']['actions']:\n",
      "                  ~~~~~~~~~~~~~~~^^^^^^^^^^^\n",
      "TypeError: 'NoneType' object is not subscriptable\n",
      "Traceback (most recent call last):\n",
      "  File \"/Users/nguyenhuynh/anaconda3/lib/python3.11/site-packages/facebook_scraper/utils.py\", line 279, in safe_consume\n",
      "    for item in generator:\n",
      "  File \"/Users/nguyenhuynh/anaconda3/lib/python3.11/site-packages/facebook_scraper/extractors.py\", line 1140, in extract_comment_replies\n",
      "    for action in data['payload']['actions']:\n",
      "                  ~~~~~~~~~~~~~~~^^^^^^^^^^^\n",
      "TypeError: 'NoneType' object is not subscriptable\n",
      "Traceback (most recent call last):\n",
      "  File \"/Users/nguyenhuynh/anaconda3/lib/python3.11/site-packages/facebook_scraper/utils.py\", line 279, in safe_consume\n",
      "    for item in generator:\n",
      "  File \"/Users/nguyenhuynh/anaconda3/lib/python3.11/site-packages/facebook_scraper/extractors.py\", line 1140, in extract_comment_replies\n",
      "    for action in data['payload']['actions']:\n",
      "                  ~~~~~~~~~~~~~~~^^^^^^^^^^^\n",
      "TypeError: 'NoneType' object is not subscriptable\n",
      "Traceback (most recent call last):\n",
      "  File \"/Users/nguyenhuynh/anaconda3/lib/python3.11/site-packages/facebook_scraper/utils.py\", line 279, in safe_consume\n",
      "    for item in generator:\n",
      "  File \"/Users/nguyenhuynh/anaconda3/lib/python3.11/site-packages/facebook_scraper/extractors.py\", line 1140, in extract_comment_replies\n",
      "    for action in data['payload']['actions']:\n",
      "                  ~~~~~~~~~~~~~~~^^^^^^^^^^^\n",
      "TypeError: 'NoneType' object is not subscriptable\n",
      "Traceback (most recent call last):\n",
      "  File \"/Users/nguyenhuynh/anaconda3/lib/python3.11/site-packages/facebook_scraper/utils.py\", line 279, in safe_consume\n",
      "    for item in generator:\n",
      "  File \"/Users/nguyenhuynh/anaconda3/lib/python3.11/site-packages/facebook_scraper/extractors.py\", line 1140, in extract_comment_replies\n",
      "    for action in data['payload']['actions']:\n",
      "                  ~~~~~~~~~~~~~~~^^^^^^^^^^^\n",
      "TypeError: 'NoneType' object is not subscriptable\n",
      "Traceback (most recent call last):\n",
      "  File \"/Users/nguyenhuynh/anaconda3/lib/python3.11/site-packages/facebook_scraper/utils.py\", line 279, in safe_consume\n",
      "    for item in generator:\n",
      "  File \"/Users/nguyenhuynh/anaconda3/lib/python3.11/site-packages/facebook_scraper/extractors.py\", line 1140, in extract_comment_replies\n",
      "    for action in data['payload']['actions']:\n",
      "                  ~~~~~~~~~~~~~~~^^^^^^^^^^^\n",
      "TypeError: 'NoneType' object is not subscriptable\n",
      "Traceback (most recent call last):\n",
      "  File \"/Users/nguyenhuynh/anaconda3/lib/python3.11/site-packages/facebook_scraper/utils.py\", line 279, in safe_consume\n",
      "    for item in generator:\n",
      "  File \"/Users/nguyenhuynh/anaconda3/lib/python3.11/site-packages/facebook_scraper/extractors.py\", line 1140, in extract_comment_replies\n",
      "    for action in data['payload']['actions']:\n",
      "                  ~~~~~~~~~~~~~~~^^^^^^^^^^^\n",
      "TypeError: 'NoneType' object is not subscriptable\n"
     ]
    },
    {
     "name": "stdout",
     "output_type": "stream",
     "text": [
      "199\n",
      "200\n",
      "201\n",
      "202\n",
      "203\n",
      "204\n",
      "205\n",
      "206\n",
      "207\n",
      "208\n",
      "209\n",
      "210\n",
      "211\n",
      "212\n",
      "213\n",
      "214\n",
      "215\n",
      "216\n",
      "217\n",
      "218\n",
      "219\n",
      "220\n",
      "221\n",
      "222\n",
      "223\n",
      "224\n",
      "225\n",
      "226\n",
      "227\n",
      "228\n",
      "229\n"
     ]
    },
    {
     "name": "stderr",
     "output_type": "stream",
     "text": [
      "Traceback (most recent call last):\n",
      "  File \"/Users/nguyenhuynh/anaconda3/lib/python3.11/site-packages/facebook_scraper/utils.py\", line 279, in safe_consume\n",
      "    for item in generator:\n",
      "  File \"/Users/nguyenhuynh/anaconda3/lib/python3.11/site-packages/facebook_scraper/extractors.py\", line 1140, in extract_comment_replies\n",
      "    for action in data['payload']['actions']:\n",
      "                  ~~~~~~~~~~~~~~~^^^^^^^^^^^\n",
      "TypeError: 'NoneType' object is not subscriptable\n",
      "Traceback (most recent call last):\n",
      "  File \"/Users/nguyenhuynh/anaconda3/lib/python3.11/site-packages/facebook_scraper/utils.py\", line 279, in safe_consume\n",
      "    for item in generator:\n",
      "  File \"/Users/nguyenhuynh/anaconda3/lib/python3.11/site-packages/facebook_scraper/extractors.py\", line 1140, in extract_comment_replies\n",
      "    for action in data['payload']['actions']:\n",
      "                  ~~~~~~~~~~~~~~~^^^^^^^^^^^\n",
      "TypeError: 'NoneType' object is not subscriptable\n",
      "Traceback (most recent call last):\n",
      "  File \"/Users/nguyenhuynh/anaconda3/lib/python3.11/site-packages/facebook_scraper/utils.py\", line 279, in safe_consume\n",
      "    for item in generator:\n",
      "  File \"/Users/nguyenhuynh/anaconda3/lib/python3.11/site-packages/facebook_scraper/extractors.py\", line 1140, in extract_comment_replies\n",
      "    for action in data['payload']['actions']:\n",
      "                  ~~~~~~~~~~~~~~~^^^^^^^^^^^\n",
      "TypeError: 'NoneType' object is not subscriptable\n",
      "Traceback (most recent call last):\n",
      "  File \"/Users/nguyenhuynh/anaconda3/lib/python3.11/site-packages/facebook_scraper/utils.py\", line 279, in safe_consume\n",
      "    for item in generator:\n",
      "  File \"/Users/nguyenhuynh/anaconda3/lib/python3.11/site-packages/facebook_scraper/extractors.py\", line 1140, in extract_comment_replies\n",
      "    for action in data['payload']['actions']:\n",
      "                  ~~~~~~~~~~~~~~~^^^^^^^^^^^\n",
      "TypeError: 'NoneType' object is not subscriptable\n",
      "Traceback (most recent call last):\n",
      "  File \"/Users/nguyenhuynh/anaconda3/lib/python3.11/site-packages/facebook_scraper/utils.py\", line 279, in safe_consume\n",
      "    for item in generator:\n",
      "  File \"/Users/nguyenhuynh/anaconda3/lib/python3.11/site-packages/facebook_scraper/extractors.py\", line 1140, in extract_comment_replies\n",
      "    for action in data['payload']['actions']:\n",
      "                  ~~~~~~~~~~~~~~~^^^^^^^^^^^\n",
      "TypeError: 'NoneType' object is not subscriptable\n"
     ]
    },
    {
     "name": "stdout",
     "output_type": "stream",
     "text": [
      "230\n",
      "231\n",
      "232\n",
      "233\n",
      "234\n",
      "235\n",
      "236\n",
      "237\n",
      "238\n",
      "239\n",
      "240\n",
      "241\n",
      "242\n",
      "243\n",
      "244\n",
      "245\n",
      "246\n",
      "247\n",
      "248\n",
      "249\n",
      "250\n",
      "251\n",
      "252\n",
      "253\n",
      "254\n",
      "255\n",
      "256\n",
      "257\n",
      "258\n",
      "259\n",
      "260\n",
      "261\n",
      "262\n",
      "263\n",
      "264\n",
      "265\n",
      "266\n",
      "267\n",
      "268\n",
      "269\n",
      "270\n",
      "271\n",
      "272\n",
      "273\n",
      "274\n",
      "275\n",
      "276\n",
      "277\n",
      "278\n",
      "279\n",
      "280\n",
      "281\n",
      "282\n",
      "283\n",
      "284\n",
      "285\n",
      "286\n",
      "287\n",
      "288\n",
      "289\n",
      "290\n",
      "291\n",
      "292\n",
      "293\n",
      "294\n",
      "295\n",
      "296\n",
      "297\n",
      "298\n",
      "299\n",
      "300\n",
      "301\n",
      "302\n",
      "303\n",
      "304\n",
      "305\n",
      "306\n",
      "307\n",
      "308\n",
      "309\n",
      "310\n",
      "311\n",
      "312\n",
      "313\n",
      "314\n",
      "315\n",
      "316\n",
      "317\n",
      "318\n",
      "319\n",
      "320\n",
      "Temporarily banned, sleeping for 10m\n"
     ]
    },
    {
     "ename": "KeyboardInterrupt",
     "evalue": "",
     "output_type": "error",
     "traceback": [
      "\u001b[0;31m---------------------------------------------------------------------------\u001b[0m",
      "\u001b[0;31mTemporarilyBanned\u001b[0m                         Traceback (most recent call last)",
      "Cell \u001b[0;32mIn[72], line 13\u001b[0m\n\u001b[1;32m     12\u001b[0m \u001b[38;5;28;01mtry\u001b[39;00m:\n\u001b[0;32m---> 13\u001b[0m     \u001b[38;5;28;01mfor\u001b[39;00m post \u001b[38;5;129;01min\u001b[39;00m get_posts(FANPAGE_LINK,\n\u001b[1;32m     14\u001b[0m                 options \u001b[38;5;241m=\u001b[39m {  \u001b[38;5;124m\"\u001b[39m\u001b[38;5;124mcomments\u001b[39m\u001b[38;5;124m\"\u001b[39m : \u001b[38;5;28;01mTrue\u001b[39;00m,\u001b[38;5;124m\"\u001b[39m\u001b[38;5;124mreactions\u001b[39m\u001b[38;5;124m\"\u001b[39m: \u001b[38;5;28;01mTrue\u001b[39;00m, \u001b[38;5;124m\"\u001b[39m\u001b[38;5;124mallow_extra_requests\u001b[39m\u001b[38;5;124m\"\u001b[39m: \u001b[38;5;28;01mTrue\u001b[39;00m ,\n\u001b[1;32m     15\u001b[0m                            \u001b[38;5;124m\"\u001b[39m\u001b[38;5;124mpost_per_page\u001b[39m\u001b[38;5;124m\"\u001b[39m : \u001b[38;5;241m50\u001b[39m,\u001b[38;5;124m\"\u001b[39m\u001b[38;5;124mreactors\u001b[39m\u001b[38;5;124m\"\u001b[39m :\u001b[38;5;28;01mFalse\u001b[39;00m},\n\u001b[1;32m     16\u001b[0m                 extra_info\u001b[38;5;241m=\u001b[39m\u001b[38;5;28;01mTrue\u001b[39;00m, pages\u001b[38;5;241m=\u001b[39mPAGES_NUMBER, cookies\u001b[38;5;241m=\u001b[39mCOOKIE_PATH, start_url\u001b[38;5;241m=\u001b[39mstart_url, request_url_callback\u001b[38;5;241m=\u001b[39mhandle_pagination_url ) :\n\u001b[1;32m     17\u001b[0m         post[\u001b[38;5;124m\"\u001b[39m\u001b[38;5;124mstart_url\u001b[39m\u001b[38;5;124m\"\u001b[39m] \u001b[38;5;241m=\u001b[39m start_url\n",
      "File \u001b[0;32m~/anaconda3/lib/python3.11/site-packages/facebook_scraper/facebook_scraper.py:1117\u001b[0m, in \u001b[0;36mFacebookScraper._generic_get_posts\u001b[0;34m(self, extract_post_fn, iter_pages_fn, page_limit, options, remove_source, latest_date, max_past_limit, **kwargs)\u001b[0m\n\u001b[1;32m   1116\u001b[0m \u001b[38;5;28;01mfor\u001b[39;00m post_element \u001b[38;5;129;01min\u001b[39;00m page:\n\u001b[0;32m-> 1117\u001b[0m     post \u001b[38;5;241m=\u001b[39m extract_post_fn(post_element, options\u001b[38;5;241m=\u001b[39moptions, request_fn\u001b[38;5;241m=\u001b[39m\u001b[38;5;28mself\u001b[39m\u001b[38;5;241m.\u001b[39mget)\n\u001b[1;32m   1118\u001b[0m     \u001b[38;5;28;01mif\u001b[39;00m remove_source:\n",
      "File \u001b[0;32m~/anaconda3/lib/python3.11/site-packages/facebook_scraper/extractors.py:33\u001b[0m, in \u001b[0;36mextract_post\u001b[0;34m(raw_post, options, request_fn, full_post_html)\u001b[0m\n\u001b[1;32m     30\u001b[0m \u001b[38;5;28;01mdef\u001b[39;00m \u001b[38;5;21mextract_post\u001b[39m(\n\u001b[1;32m     31\u001b[0m     raw_post: RawPost, options: Options, request_fn: RequestFunction, full_post_html\u001b[38;5;241m=\u001b[39m\u001b[38;5;28;01mNone\u001b[39;00m\n\u001b[1;32m     32\u001b[0m ) \u001b[38;5;241m-\u001b[39m\u001b[38;5;241m>\u001b[39m Post:\n\u001b[0;32m---> 33\u001b[0m     \u001b[38;5;28;01mreturn\u001b[39;00m PostExtractor(raw_post, options, request_fn, full_post_html)\u001b[38;5;241m.\u001b[39mextract_post()\n",
      "File \u001b[0;32m~/anaconda3/lib/python3.11/site-packages/facebook_scraper/extractors.py:193\u001b[0m, in \u001b[0;36mPostExtractor.extract_post\u001b[0;34m(self)\u001b[0m\n\u001b[1;32m    192\u001b[0m \u001b[38;5;28;01mtry\u001b[39;00m:\n\u001b[0;32m--> 193\u001b[0m     partial_post \u001b[38;5;241m=\u001b[39m method()\n\u001b[1;32m    194\u001b[0m     \u001b[38;5;28;01mif\u001b[39;00m partial_post \u001b[38;5;129;01mis\u001b[39;00m \u001b[38;5;28;01mNone\u001b[39;00m:\n",
      "File \u001b[0;32m~/anaconda3/lib/python3.11/site-packages/facebook_scraper/extractors.py:947\u001b[0m, in \u001b[0;36mPostExtractor.extract_video_meta\u001b[0;34m(self)\u001b[0m\n\u001b[1;32m    946\u001b[0m \u001b[38;5;28;01mdef\u001b[39;00m \u001b[38;5;21mextract_video_meta\u001b[39m(\u001b[38;5;28mself\u001b[39m):\n\u001b[0;32m--> 947\u001b[0m     elem \u001b[38;5;241m=\u001b[39m \u001b[38;5;28mself\u001b[39m\u001b[38;5;241m.\u001b[39mfull_post_html\u001b[38;5;241m.\u001b[39mfind(\u001b[38;5;124m\"\u001b[39m\u001b[38;5;124mscript[type=\u001b[39m\u001b[38;5;124m'\u001b[39m\u001b[38;5;124mapplication/ld+json\u001b[39m\u001b[38;5;124m'\u001b[39m\u001b[38;5;124m]\u001b[39m\u001b[38;5;124m\"\u001b[39m, first\u001b[38;5;241m=\u001b[39m\u001b[38;5;28;01mTrue\u001b[39;00m)\n\u001b[1;32m    948\u001b[0m     \u001b[38;5;28;01mif\u001b[39;00m \u001b[38;5;129;01mnot\u001b[39;00m elem:\n",
      "File \u001b[0;32m~/anaconda3/lib/python3.11/site-packages/facebook_scraper/extractors.py:1351\u001b[0m, in \u001b[0;36mPostExtractor.full_post_html\u001b[0;34m(self)\u001b[0m\n\u001b[1;32m   1350\u001b[0m \u001b[38;5;28;01mtry\u001b[39;00m:\n\u001b[0;32m-> 1351\u001b[0m     response \u001b[38;5;241m=\u001b[39m \u001b[38;5;28mself\u001b[39m\u001b[38;5;241m.\u001b[39mrequest(url)\n\u001b[1;32m   1352\u001b[0m \u001b[38;5;28;01mexcept\u001b[39;00m exceptions\u001b[38;5;241m.\u001b[39mNotFound \u001b[38;5;28;01mas\u001b[39;00m e:\n",
      "File \u001b[0;32m~/anaconda3/lib/python3.11/site-packages/facebook_scraper/facebook_scraper.py:929\u001b[0m, in \u001b[0;36mFacebookScraper.get\u001b[0;34m(self, url, **kwargs)\u001b[0m\n\u001b[1;32m    928\u001b[0m \u001b[38;5;28;01melif\u001b[39;00m title\u001b[38;5;241m.\u001b[39mtext\u001b[38;5;241m.\u001b[39mlower() \u001b[38;5;129;01min\u001b[39;00m temp_ban_titles:\n\u001b[0;32m--> 929\u001b[0m     \u001b[38;5;28;01mraise\u001b[39;00m exceptions\u001b[38;5;241m.\u001b[39mTemporarilyBanned(title\u001b[38;5;241m.\u001b[39mtext)\n\u001b[1;32m    930\u001b[0m \u001b[38;5;28;01melif\u001b[39;00m \u001b[38;5;124m\"\u001b[39m\u001b[38;5;124m>your account has been disabled<\u001b[39m\u001b[38;5;124m\"\u001b[39m \u001b[38;5;129;01min\u001b[39;00m response\u001b[38;5;241m.\u001b[39mhtml\u001b[38;5;241m.\u001b[39mhtml\u001b[38;5;241m.\u001b[39mlower():\n",
      "\u001b[0;31mTemporarilyBanned\u001b[0m: You’re Temporarily Blocked",
      "\nDuring handling of the above exception, another exception occurred:\n",
      "\u001b[0;31mKeyboardInterrupt\u001b[0m                         Traceback (most recent call last)",
      "Cell \u001b[0;32mIn[72], line 27\u001b[0m\n\u001b[1;32m     25\u001b[0m \u001b[38;5;28;01mexcept\u001b[39;00m exceptions\u001b[38;5;241m.\u001b[39mTemporarilyBanned:\n\u001b[1;32m     26\u001b[0m     \u001b[38;5;28mprint\u001b[39m(\u001b[38;5;124m\"\u001b[39m\u001b[38;5;124mTemporarily banned, sleeping for 10m\u001b[39m\u001b[38;5;124m\"\u001b[39m)\n\u001b[0;32m---> 27\u001b[0m     time\u001b[38;5;241m.\u001b[39msleep(\u001b[38;5;241m1000\u001b[39m)\n",
      "\u001b[0;31mKeyboardInterrupt\u001b[0m: "
     ]
    }
   ],
   "source": [
    "import random\n",
    "\n",
    "def handle_pagination_url(url):\n",
    "        global start_url\n",
    "        start_url = url\n",
    "\n",
    "FANPAGE_LINK = \"KFCVietnam\"\n",
    "\n",
    "    \n",
    "\n",
    "while True:\n",
    "    try:\n",
    "        for post in get_posts(FANPAGE_LINK,\n",
    "                    options = {  \"comments\" : True,\"reactions\": True, \"allow_extra_requests\": True ,\n",
    "                               \"post_per_page\" : 50,\"reactors\" :False},\n",
    "                    extra_info=True, pages=PAGES_NUMBER, cookies=COOKIE_PATH, start_url=start_url, request_url_callback=handle_pagination_url ) :\n",
    "            post[\"start_url\"] = start_url\n",
    "\n",
    "            post_link[FANPAGE_LINK].append(post)\n",
    "            print(len(post_link[FANPAGE_LINK]))\n",
    "            time.sleep(random.randrange(2, 10, 1));\n",
    "        print(\"All done\")\n",
    "        break\n",
    "\n",
    "    except exceptions.TemporarilyBanned:\n",
    "        print(\"Temporarily banned, sleeping for 10m\")\n",
    "        time.sleep(1000)"
   ]
  },
  {
   "cell_type": "code",
   "execution_count": 74,
   "id": "6ff026b0-543c-4334-8336-0c362d31b74a",
   "metadata": {
    "tags": []
   },
   "outputs": [
    {
     "data": {
      "text/plain": [
       "320"
      ]
     },
     "execution_count": 74,
     "metadata": {},
     "output_type": "execute_result"
    }
   ],
   "source": [
    "len(post_link[FANPAGE_LINKS[3]])"
   ]
  },
  {
   "cell_type": "code",
   "execution_count": null,
   "id": "3ddff5e5-47bf-42f8-9c8b-df98a05daa96",
   "metadata": {},
   "outputs": [],
   "source": []
  },
  {
   "cell_type": "code",
   "execution_count": 75,
   "id": "faee5860-3049-423c-88af-1517916320bc",
   "metadata": {
    "tags": []
   },
   "outputs": [],
   "source": [
    "for fanpage in FANPAGE_LINKS:\n",
    "    try:\n",
    "        post_df_full = pd.DataFrame(post_link[fanpage], columns=post_link[fanpage][0].keys(), index=range(len(post_link[fanpage])))\n",
    "        post_df_full[\"time\"] = pd.to_datetime(post_df_full[\"time\"])\n",
    "        # post_df_full = post_df_full[post_df_full['time'] > pd.to_datetime('2022-12-01')]\n",
    "        path = FOLDER_PATH + \"/\" + fanpage + \".csv\"\n",
    "        post_df_full.to_csv(path)\n",
    "    except:\n",
    "        continue\n",
    "    print(path)"
   ]
  }
 ],
 "metadata": {
  "kernelspec": {
   "display_name": "Python 3 (ipykernel)",
   "language": "python",
   "name": "python3"
  },
  "language_info": {
   "codemirror_mode": {
    "name": "ipython",
    "version": 3
   },
   "file_extension": ".py",
   "mimetype": "text/x-python",
   "name": "python",
   "nbconvert_exporter": "python",
   "pygments_lexer": "ipython3",
   "version": "3.11.4"
  }
 },
 "nbformat": 4,
 "nbformat_minor": 5
}
